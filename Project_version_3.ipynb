{
 "cells": [
  {
   "cell_type": "code",
   "execution_count": 11,
   "metadata": {},
   "outputs": [],
   "source": [
    "# open the necessary packages to develop a convolutional neural network and the relevant MNIST dataset\n",
    "# if packages not yet downloaded use: pip install\n",
    "import tensorflow as tf\n",
    "import numpy as np\n",
    "import PIL.ImageOps\n",
    "from keras.datasets import mnist\n",
    "from PIL import Image, ImageFilter\n",
    "from tensorflow.keras.utils import to_categorical\n",
    "from numpy import mean\n",
    "from numpy import std\n",
    "from matplotlib import pyplot as plt\n",
    "from sklearn.model_selection import KFold\n",
    "from keras.datasets import mnist\n",
    "from keras.utils import to_categorical\n",
    "from keras.models import Sequential\n",
    "from keras.layers import Conv2D\n",
    "from keras.layers import MaxPooling2D\n",
    "from keras.layers import Dense\n",
    "from keras.layers import Flatten\n",
    "from keras.optimizers import SGD\n",
    "from PIL import Image, ImageFilter, ImageDraw"
   ]
  },
  {
   "cell_type": "code",
   "execution_count": 12,
   "metadata": {},
   "outputs": [],
   "source": [
    "# load the training and test dataset  \n",
    "# reshape the datasets (single channel, scale the pixels, color, float numbers) \n",
    "(trainX, trainY), (testX, testY) = mnist.load_data()\n",
    "trainX = trainX.reshape((trainX.shape[0], 28, 28, 1))\n",
    "testX = testX.reshape((testX.shape[0], 28, 28, 1))\n",
    "trainY = to_categorical(trainY)\n",
    "testY = to_categorical(testY)\n",
    "train_norm = trainX.astype('float32')\n",
    "test_norm = testX.astype('float32')\n",
    "\n",
    "# normalize the data to a range of 0-1 by dividing throug maximum value\n",
    "# blablabla new comment\n",
    "train_norm = train_norm / 255.0\n",
    "test_norm = test_norm / 255.0\n",
    "trainX = train_norm\n",
    "testX = test_norm"
   ]
  },
  {
   "cell_type": "code",
   "execution_count": 10,
   "metadata": {},
   "outputs": [
    {
     "name": "stdout",
     "output_type": "stream",
     "text": [
      "Model: \"sequential_4\"\n",
      "_________________________________________________________________\n",
      "Layer (type)                 Output Shape              Param #   \n",
      "=================================================================\n",
      "conv2d_4 (Conv2D)            (None, 26, 26, 32)        320       \n",
      "_________________________________________________________________\n",
      "max_pooling2d_4 (MaxPooling2 (None, 13, 13, 32)        0         \n",
      "_________________________________________________________________\n",
      "flatten_4 (Flatten)          (None, 5408)              0         \n",
      "_________________________________________________________________\n",
      "dense_8 (Dense)              (None, 100)               540900    \n",
      "_________________________________________________________________\n",
      "dense_9 (Dense)              (None, 10)                1010      \n",
      "=================================================================\n",
      "Total params: 542,230\n",
      "Trainable params: 542,230\n",
      "Non-trainable params: 0\n",
      "_________________________________________________________________\n"
     ]
    }
   ],
   "source": [
    "# build a sequential model (stack of layers where each layer has exactly one input tensor and one output tensor)\n",
    "# layer Conv2D: creates a convolution kernel that is convolved with the layer input to produce a tensor of outputs\n",
    "# layer MaxPooling2D: downsamples the input for 2D spatial data\n",
    "# layer Flatten: flattens input without affecting batch size\n",
    "# layer Dense 1: regular densely-connected neural network layer, relu applies the rectified linear unit activation function\n",
    "# layer Dense 2: regular densely-connected neural network layer, softmax converts a real vector to a vector of categorical probabilities, sum of vector element =1 \n",
    "new_model = Sequential()\n",
    "new_model.add(Conv2D(32, (3, 3), activation='relu', kernel_initializer='he_uniform', input_shape=(28, 28, 1)))\n",
    "new_model.add(MaxPooling2D((2, 2)))\n",
    "new_model.add(Flatten())\n",
    "new_model.add(Dense(100, activation='relu', kernel_initializer='he_uniform'))\n",
    "new_model.add(Dense(10, activation='softmax'))\n",
    "new_model.summary()\n",
    "    \n",
    "# optimize(with learning rate and momentum) and compile the model \n",
    "opt = SGD(lr=0.01, momentum=0.9)\n",
    "new_model.compile(optimizer=opt, loss='categorical_crossentropy', metrics=['accuracy'])"
   ]
  },
  {
   "cell_type": "code",
   "execution_count": 13,
   "metadata": {},
   "outputs": [
    {
     "name": "stdout",
     "output_type": "stream",
     "text": [
      "Epoch 1/10\n",
      "1875/1875 [==============================] - 15s 8ms/step - loss: 0.1648 - accuracy: 0.9496\n",
      "Epoch 2/10\n",
      "1875/1875 [==============================] - 17s 9ms/step - loss: 0.0561 - accuracy: 0.9830\n",
      "Epoch 3/10\n",
      "1875/1875 [==============================] - 15s 8ms/step - loss: 0.0354 - accuracy: 0.9889\n",
      "Epoch 4/10\n",
      "1875/1875 [==============================] - 13s 7ms/step - loss: 0.0251 - accuracy: 0.9921\n",
      "Epoch 5/10\n",
      "1875/1875 [==============================] - 14s 8ms/step - loss: 0.0171 - accuracy: 0.9948\n",
      "Epoch 6/10\n",
      "1875/1875 [==============================] - 15s 8ms/step - loss: 0.0120 - accuracy: 0.9965\n",
      "Epoch 7/10\n",
      "1875/1875 [==============================] - 14s 8ms/step - loss: 0.0079 - accuracy: 0.9981\n",
      "Epoch 8/10\n",
      "1875/1875 [==============================] - 13s 7ms/step - loss: 0.0056 - accuracy: 0.9987\n",
      "Epoch 9/10\n",
      "1875/1875 [==============================] - 14s 8ms/step - loss: 0.0030 - accuracy: 0.9996\n",
      "Epoch 10/10\n",
      "1875/1875 [==============================] - 14s 7ms/step - loss: 0.0020 - accuracy: 0.9998\n"
     ]
    },
    {
     "data": {
      "text/plain": [
       "<tensorflow.python.keras.callbacks.History at 0x13b9a8eb0>"
      ]
     },
     "execution_count": 13,
     "metadata": {},
     "output_type": "execute_result"
    }
   ],
   "source": [
    "# fit the model based on the training data set\n",
    "# epochs = cutoff to separate training data in distinct phases (means we are going 10 times throug training dataset)\n",
    "# batch_size = number of samples per gradient update\n",
    "new_model.fit(trainX, trainY, epochs=10, batch_size=32)"
   ]
  },
  {
   "cell_type": "code",
   "execution_count": 15,
   "metadata": {},
   "outputs": [
    {
     "name": "stdout",
     "output_type": "stream",
     "text": [
      "313/313 - 1s - loss: 0.0412 - accuracy: 0.9875\n",
      "\n",
      "Test accuracy: 0.987500011920929\n"
     ]
    }
   ],
   "source": [
    "# evaluate the trained model based on the test accuray for the test dataset\n",
    "test_loss, test_acc =new_model.evaluate(testX, testY, verbose=2)\n",
    "print('\\nTest accuracy:', test_acc)\n",
    "\n",
    "# test accuracy of 98.8 percent evaluated as reasonably accurate - we proceed\n",
    "# done with the model construction and training"
   ]
  },
  {
   "cell_type": "code",
   "execution_count": 18,
   "metadata": {},
   "outputs": [
    {
     "name": "stdout",
     "output_type": "stream",
     "text": [
      "<class 'PIL.Image.Image'>\n",
      "(296, 322)\n",
      "(20, 20)\n",
      "<class 'PIL.Image.Image'>\n",
      "<PIL.Image.Image image mode=L size=20x20 at 0x138EA6B20>\n",
      "111\n",
      "<class 'numpy.ndarray'>\n",
      "[[253. 255. 196. 120. 119. 126. 143. 152. 160. 167. 179. 186. 187. 187.\n",
      "  191. 198. 208. 233. 255. 255.]\n",
      " [255. 255.   0.   0.   0.   0.   0.   0.   0.   0.   0.   0.   0.   0.\n",
      "    0.   0.   0.   0. 115. 254.]\n",
      " [254. 255.   0.   0.   0.   0.   0.   0.   0.   0.   0.   0.   0.   0.\n",
      "    0.   0.   0.   0.   0. 244.]\n",
      " [254. 255. 255. 238. 246. 233. 204. 193. 185. 167. 147. 137. 135. 158.\n",
      "  143.   0.   1.   0.  72. 254.]\n",
      " [255. 255. 255. 255. 255. 255. 255. 255. 255. 255. 255. 255. 255. 255.\n",
      "  117.   0.   0.  13. 255. 253.]\n",
      " [255. 255. 253. 250. 250. 250. 248. 248. 248. 249. 249. 243. 255. 235.\n",
      "    0.   0.   0. 255. 255. 253.]\n",
      " [255. 255. 255. 255. 255. 255. 255. 255. 255. 253. 254. 255. 255.  11.\n",
      "    0.   0. 102. 255. 252. 255.]\n",
      " [255. 255. 255. 255. 255. 255. 255. 253. 255. 255. 255. 255. 209.   0.\n",
      "    0.   1. 255. 255. 255. 255.]\n",
      " [255. 255. 255. 255. 255. 255. 255. 255. 255. 255. 255. 255.   0.   0.\n",
      "    0.  60. 140. 249. 255. 253.]\n",
      " [255. 255. 255. 255. 255. 254. 255. 255.   0.   0.   0.   0.   0.   0.\n",
      "    1.   0.   0.   0. 255. 253.]\n",
      " [255. 255. 255. 255. 255. 249. 255. 210.   0.   0.   0.   0.   0.   0.\n",
      "    0.   0.   0.  62. 255. 253.]\n",
      " [255. 255. 255. 255. 255. 255. 255. 255.  98. 103.   8.   0.   0.   7.\n",
      "  153. 211. 255. 255. 255. 255.]\n",
      " [255. 255. 255. 255. 255. 255. 255. 255. 255. 255.   0.   0.   0. 255.\n",
      "  255. 255. 255. 255. 255. 255.]\n",
      " [255. 255. 255. 255. 255. 255. 254. 255. 255.   0.   0.   0. 116. 255.\n",
      "  248. 250. 251. 255. 255. 255.]\n",
      " [255. 255. 255. 255. 255. 255. 255. 255. 114.   0.   0.   0. 255. 255.\n",
      "  255. 255. 255. 255. 255. 255.]\n",
      " [255. 255. 255. 255. 255. 252. 255. 255.   0.   0.   0. 240. 255. 251.\n",
      "  255. 255. 255. 255. 255. 255.]\n",
      " [255. 255. 255. 255. 255. 248. 255.  38.   0.   0.  56. 255. 255. 255.\n",
      "  255. 255. 255. 255. 255. 255.]\n",
      " [255. 255. 255. 255. 255. 250. 255.  95.   0.   0. 255. 255. 252. 255.\n",
      "  255. 255. 255. 255. 255. 255.]\n",
      " [255. 255. 255. 255. 255. 255. 255. 255. 219. 255. 255. 255. 255. 255.\n",
      "  255. 255. 255. 255. 255. 255.]\n",
      " [255. 255. 255. 255. 255. 255. 255. 255. 255. 255. 254. 255. 255. 255.\n",
      "  255. 255. 255. 255. 255. 255.]]\n"
     ]
    },
    {
     "data": {
      "image/png": "[encoded data removed]",
      "text/plain": [
       "<Figure size 432x288 with 1 Axes>"
      ]
     },
     "metadata": {
      "needs_background": "light"
     },
     "output_type": "display_data"
    }
   ],
   "source": [
    "# build an image converter with the aim that the model predicts the digit of the new uploaded image \n",
    "# open the image, if saved in the same dictionary the name suffices, otherwise use whole savepath\n",
    "im = Image.open('IMG7.png')\n",
    "\n",
    "# get the bands in the image since python imaging library allows to store several band in a single image\n",
    "im.getbands() \n",
    "\n",
    "# define type and depth of a pixel in the image\n",
    "# use mode L: 8-bit pixels (has a range of 0-255), black and white\n",
    "im = im.convert('L') \n",
    "im.getbands()\n",
    "print(type(im)) \n",
    "print(im.size) \n",
    "\n",
    "# resizing and quality enhancement of the image\n",
    "im = im.resize((20,20), Image.LANCZOS) \n",
    "im = im.filter(ImageFilter.SHARPEN) \n",
    "print(im.size) \n",
    "print(type(im)) \n",
    "print(im) \n",
    "\n",
    "# convert to a numpy array\n",
    "test = np.array(im, dtype='float32')\n",
    "print(type(test))\n",
    "print(test)\n",
    "\n",
    "# examination of the image format through visualization\n",
    "# plot will appear at the end of the output\n",
    "plt.imshow(test, cmap='gray') \n",
    "\n",
    "# insight: Color of the image has to be inverted because in the MNIST dataset they are written in with on a black canvas\n",
    "# insight: Digit needs to be centered\n",
    "\n",
    "# implementation of color inversion (now black = 0 and white = 255, mode L)\n",
    "newImage = Image.new('L', (28, 28), (255)) \n",
    "\n",
    "# implementation of image centralization (vertical and horizontal distance from upper left corner)\n",
    "newImage.paste(im,(4,4)) \n",
    "\n",
    "# invert the colors of the image (change black and white) \n",
    "# visualization: illustration of the shape to be recognized by the model (opened in a new window)\n",
    "inverted_image = PIL.ImageOps.invert(newImage)\n",
    "inverted_image.show()"
   ]
  },
  {
   "cell_type": "code",
   "execution_count": 19,
   "metadata": {},
   "outputs": [
    {
     "name": "stdout",
     "output_type": "stream",
     "text": [
      "<class 'numpy.ndarray'>\n",
      "[[  0.   0.   0.   0.   0.   0.   0.   0.   0.   0.   0.   0.   0.   0.\n",
      "    0.   0.   0.   0.   0.   0.   0.   0.   0.   0.   0.   0.   0.   0.]\n",
      " [  0.   0.   0.   0.   0.   0.   0.   0.   0.   0.   0.   0.   0.   0.\n",
      "    0.   0.   0.   0.   0.   0.   0.   0.   0.   0.   0.   0.   0.   0.]\n",
      " [  0.   0.   0.   0.   0.   0.   0.   0.   0.   0.   0.   0.   0.   0.\n",
      "    0.   0.   0.   0.   0.   0.   0.   0.   0.   0.   0.   0.   0.   0.]\n",
      " [  0.   0.   0.   0.   0.   0.   0.   0.   0.   0.   0.   0.   0.   0.\n",
      "    0.   0.   0.   0.   0.   0.   0.   0.   0.   0.   0.   0.   0.   0.]\n",
      " [  0.   0.   0.   0.   2.   0.  59. 135. 136. 129. 112. 103.  95.  88.\n",
      "   76.  69.  68.  68.  64.  57.  47.  22.   0.   0.   0.   0.   0.   0.]\n",
      " [  0.   0.   0.   0.   0.   0. 255. 255. 255. 255. 255. 255. 255. 255.\n",
      "  255. 255. 255. 255. 255. 255. 255. 255. 140.   1.   0.   0.   0.   0.]\n",
      " [  0.   0.   0.   0.   1.   0. 255. 255. 255. 255. 255. 255. 255. 255.\n",
      "  255. 255. 255. 255. 255. 255. 255. 255. 255.  11.   0.   0.   0.   0.]\n",
      " [  0.   0.   0.   0.   1.   0.   0.  17.   9.  22.  51.  62.  70.  88.\n",
      "  108. 118. 120.  97. 112. 255. 254. 255. 183.   1.   0.   0.   0.   0.]\n",
      " [  0.   0.   0.   0.   0.   0.   0.   0.   0.   0.   0.   0.   0.   0.\n",
      "    0.   0.   0.   0. 138. 255. 255. 242.   0.   2.   0.   0.   0.   0.]\n",
      " [  0.   0.   0.   0.   0.   0.   2.   5.   5.   5.   7.   7.   7.   6.\n",
      "    6.  12.   0.  20. 255. 255. 255.   0.   0.   2.   0.   0.   0.   0.]\n",
      " [  0.   0.   0.   0.   0.   0.   0.   0.   0.   0.   0.   0.   0.   2.\n",
      "    1.   0.   0. 244. 255. 255. 153.   0.   3.   0.   0.   0.   0.   0.]\n",
      " [  0.   0.   0.   0.   0.   0.   0.   0.   0.   0.   0.   2.   0.   0.\n",
      "    0.   0.  46. 255. 255. 254.   0.   0.   0.   0.   0.   0.   0.   0.]\n",
      " [  0.   0.   0.   0.   0.   0.   0.   0.   0.   0.   0.   0.   0.   0.\n",
      "    0.   0. 255. 255. 255. 195. 115.   6.   0.   2.   0.   0.   0.   0.]\n",
      " [  0.   0.   0.   0.   0.   0.   0.   0.   0.   1.   0.   0. 255. 255.\n",
      "  255. 255. 255. 255. 254. 255. 255. 255.   0.   2.   0.   0.   0.   0.]\n",
      " [  0.   0.   0.   0.   0.   0.   0.   0.   0.   6.   0.  45. 255. 255.\n",
      "  255. 255. 255. 255. 255. 255. 255. 193.   0.   2.   0.   0.   0.   0.]\n",
      " [  0.   0.   0.   0.   0.   0.   0.   0.   0.   0.   0.   0. 157. 152.\n",
      "  247. 255. 255. 248. 102.  44.   0.   0.   0.   0.   0.   0.   0.   0.]\n",
      " [  0.   0.   0.   0.   0.   0.   0.   0.   0.   0.   0.   0.   0.   0.\n",
      "  255. 255. 255.   0.   0.   0.   0.   0.   0.   0.   0.   0.   0.   0.]\n",
      " [  0.   0.   0.   0.   0.   0.   0.   0.   0.   0.   1.   0.   0. 255.\n",
      "  255. 255. 139.   0.   7.   5.   4.   0.   0.   0.   0.   0.   0.   0.]\n",
      " [  0.   0.   0.   0.   0.   0.   0.   0.   0.   0.   0.   0. 141. 255.\n",
      "  255. 255.   0.   0.   0.   0.   0.   0.   0.   0.   0.   0.   0.   0.]\n",
      " [  0.   0.   0.   0.   0.   0.   0.   0.   0.   3.   0.   0. 255. 255.\n",
      "  255.  15.   0.   4.   0.   0.   0.   0.   0.   0.   0.   0.   0.   0.]\n",
      " [  0.   0.   0.   0.   0.   0.   0.   0.   0.   7.   0. 217. 255. 255.\n",
      "  199.   0.   0.   0.   0.   0.   0.   0.   0.   0.   0.   0.   0.   0.]\n",
      " [  0.   0.   0.   0.   0.   0.   0.   0.   0.   5.   0. 160. 255. 255.\n",
      "    0.   0.   3.   0.   0.   0.   0.   0.   0.   0.   0.   0.   0.   0.]\n",
      " [  0.   0.   0.   0.   0.   0.   0.   0.   0.   0.   0.   0.  36.   0.\n",
      "    0.   0.   0.   0.   0.   0.   0.   0.   0.   0.   0.   0.   0.   0.]\n",
      " [  0.   0.   0.   0.   0.   0.   0.   0.   0.   0.   0.   0.   0.   0.\n",
      "    1.   0.   0.   0.   0.   0.   0.   0.   0.   0.   0.   0.   0.   0.]\n",
      " [  0.   0.   0.   0.   0.   0.   0.   0.   0.   0.   0.   0.   0.   0.\n",
      "    0.   0.   0.   0.   0.   0.   0.   0.   0.   0.   0.   0.   0.   0.]\n",
      " [  0.   0.   0.   0.   0.   0.   0.   0.   0.   0.   0.   0.   0.   0.\n",
      "    0.   0.   0.   0.   0.   0.   0.   0.   0.   0.   0.   0.   0.   0.]\n",
      " [  0.   0.   0.   0.   0.   0.   0.   0.   0.   0.   0.   0.   0.   0.\n",
      "    0.   0.   0.   0.   0.   0.   0.   0.   0.   0.   0.   0.   0.   0.]\n",
      " [  0.   0.   0.   0.   0.   0.   0.   0.   0.   0.   0.   0.   0.   0.\n",
      "    0.   0.   0.   0.   0.   0.   0.   0.   0.   0.   0.   0.   0.   0.]]\n",
      "[[0.         0.         0.         0.         0.         0.\n",
      "  0.         0.         0.         0.         0.         0.\n",
      "  0.         0.         0.         0.         0.         0.\n",
      "  0.         0.         0.         0.         0.         0.\n",
      "  0.         0.         0.         0.        ]\n",
      " [0.         0.         0.         0.         0.         0.\n",
      "  0.         0.         0.         0.         0.         0.\n",
      "  0.         0.         0.         0.         0.         0.\n",
      "  0.         0.         0.         0.         0.         0.\n",
      "  0.         0.         0.         0.        ]\n",
      " [0.         0.         0.         0.         0.         0.\n",
      "  0.         0.         0.         0.         0.         0.\n",
      "  0.         0.         0.         0.         0.         0.\n",
      "  0.         0.         0.         0.         0.         0.\n",
      "  0.         0.         0.         0.        ]\n",
      " [0.         0.         0.         0.         0.         0.\n",
      "  0.         0.         0.         0.         0.         0.\n",
      "  0.         0.         0.         0.         0.         0.\n",
      "  0.         0.         0.         0.         0.         0.\n",
      "  0.         0.         0.         0.        ]\n",
      " [0.         0.         0.         0.         0.00784314 0.\n",
      "  0.23137255 0.5294118  0.53333336 0.5058824  0.4392157  0.40392157\n",
      "  0.37254903 0.34509805 0.29803923 0.27058825 0.26666668 0.26666668\n",
      "  0.2509804  0.22352941 0.18431373 0.08627451 0.         0.\n",
      "  0.         0.         0.         0.        ]\n",
      " [0.         0.         0.         0.         0.         0.\n",
      "  1.         1.         1.         1.         1.         1.\n",
      "  1.         1.         1.         1.         1.         1.\n",
      "  1.         1.         1.         1.         0.54901963 0.00392157\n",
      "  0.         0.         0.         0.        ]\n",
      " [0.         0.         0.         0.         0.00392157 0.\n",
      "  1.         1.         1.         1.         1.         1.\n",
      "  1.         1.         1.         1.         1.         1.\n",
      "  1.         1.         1.         1.         1.         0.04313726\n",
      "  0.         0.         0.         0.        ]\n",
      " [0.         0.         0.         0.         0.00392157 0.\n",
      "  0.         0.06666667 0.03529412 0.08627451 0.2        0.24313726\n",
      "  0.27450982 0.34509805 0.42352942 0.4627451  0.47058824 0.38039216\n",
      "  0.4392157  1.         0.99607843 1.         0.7176471  0.00392157\n",
      "  0.         0.         0.         0.        ]\n",
      " [0.         0.         0.         0.         0.         0.\n",
      "  0.         0.         0.         0.         0.         0.\n",
      "  0.         0.         0.         0.         0.         0.\n",
      "  0.5411765  1.         1.         0.9490196  0.         0.00784314\n",
      "  0.         0.         0.         0.        ]\n",
      " [0.         0.         0.         0.         0.         0.\n",
      "  0.00784314 0.01960784 0.01960784 0.01960784 0.02745098 0.02745098\n",
      "  0.02745098 0.02352941 0.02352941 0.04705882 0.         0.07843138\n",
      "  1.         1.         1.         0.         0.         0.00784314\n",
      "  0.         0.         0.         0.        ]\n",
      " [0.         0.         0.         0.         0.         0.\n",
      "  0.         0.         0.         0.         0.         0.\n",
      "  0.         0.00784314 0.00392157 0.         0.         0.95686275\n",
      "  1.         1.         0.6        0.         0.01176471 0.\n",
      "  0.         0.         0.         0.        ]\n",
      " [0.         0.         0.         0.         0.         0.\n",
      "  0.         0.         0.         0.         0.         0.00784314\n",
      "  0.         0.         0.         0.         0.18039216 1.\n",
      "  1.         0.99607843 0.         0.         0.         0.\n",
      "  0.         0.         0.         0.        ]\n",
      " [0.         0.         0.         0.         0.         0.\n",
      "  0.         0.         0.         0.         0.         0.\n",
      "  0.         0.         0.         0.         1.         1.\n",
      "  1.         0.7647059  0.4509804  0.02352941 0.         0.00784314\n",
      "  0.         0.         0.         0.        ]\n",
      " [0.         0.         0.         0.         0.         0.\n",
      "  0.         0.         0.         0.00392157 0.         0.\n",
      "  1.         1.         1.         1.         1.         1.\n",
      "  0.99607843 1.         1.         1.         0.         0.00784314\n",
      "  0.         0.         0.         0.        ]\n",
      " [0.         0.         0.         0.         0.         0.\n",
      "  0.         0.         0.         0.02352941 0.         0.1764706\n",
      "  1.         1.         1.         1.         1.         1.\n",
      "  1.         1.         1.         0.75686276 0.         0.00784314\n",
      "  0.         0.         0.         0.        ]\n",
      " [0.         0.         0.         0.         0.         0.\n",
      "  0.         0.         0.         0.         0.         0.\n",
      "  0.6156863  0.59607846 0.96862745 1.         1.         0.972549\n",
      "  0.4        0.17254902 0.         0.         0.         0.\n",
      "  0.         0.         0.         0.        ]\n",
      " [0.         0.         0.         0.         0.         0.\n",
      "  0.         0.         0.         0.         0.         0.\n",
      "  0.         0.         1.         1.         1.         0.\n",
      "  0.         0.         0.         0.         0.         0.\n",
      "  0.         0.         0.         0.        ]\n",
      " [0.         0.         0.         0.         0.         0.\n",
      "  0.         0.         0.         0.         0.00392157 0.\n",
      "  0.         1.         1.         1.         0.54509807 0.\n",
      "  0.02745098 0.01960784 0.01568628 0.         0.         0.\n",
      "  0.         0.         0.         0.        ]\n",
      " [0.         0.         0.         0.         0.         0.\n",
      "  0.         0.         0.         0.         0.         0.\n",
      "  0.5529412  1.         1.         1.         0.         0.\n",
      "  0.         0.         0.         0.         0.         0.\n",
      "  0.         0.         0.         0.        ]\n",
      " [0.         0.         0.         0.         0.         0.\n",
      "  0.         0.         0.         0.01176471 0.         0.\n",
      "  1.         1.         1.         0.05882353 0.         0.01568628\n",
      "  0.         0.         0.         0.         0.         0.\n",
      "  0.         0.         0.         0.        ]\n",
      " [0.         0.         0.         0.         0.         0.\n",
      "  0.         0.         0.         0.02745098 0.         0.8509804\n",
      "  1.         1.         0.78039217 0.         0.         0.\n",
      "  0.         0.         0.         0.         0.         0.\n",
      "  0.         0.         0.         0.        ]\n",
      " [0.         0.         0.         0.         0.         0.\n",
      "  0.         0.         0.         0.01960784 0.         0.627451\n",
      "  1.         1.         0.         0.         0.01176471 0.\n",
      "  0.         0.         0.         0.         0.         0.\n",
      "  0.         0.         0.         0.        ]\n",
      " [0.         0.         0.         0.         0.         0.\n",
      "  0.         0.         0.         0.         0.         0.\n",
      "  0.14117648 0.         0.         0.         0.         0.\n",
      "  0.         0.         0.         0.         0.         0.\n",
      "  0.         0.         0.         0.        ]\n",
      " [0.         0.         0.         0.         0.         0.\n",
      "  0.         0.         0.         0.         0.         0.\n",
      "  0.         0.         0.00392157 0.         0.         0.\n",
      "  0.         0.         0.         0.         0.         0.\n",
      "  0.         0.         0.         0.        ]\n",
      " [0.         0.         0.         0.         0.         0.\n",
      "  0.         0.         0.         0.         0.         0.\n",
      "  0.         0.         0.         0.         0.         0.\n",
      "  0.         0.         0.         0.         0.         0.\n",
      "  0.         0.         0.         0.        ]\n",
      " [0.         0.         0.         0.         0.         0.\n",
      "  0.         0.         0.         0.         0.         0.\n",
      "  0.         0.         0.         0.         0.         0.\n",
      "  0.         0.         0.         0.         0.         0.\n",
      "  0.         0.         0.         0.        ]\n",
      " [0.         0.         0.         0.         0.         0.\n",
      "  0.         0.         0.         0.         0.         0.\n",
      "  0.         0.         0.         0.         0.         0.\n",
      "  0.         0.         0.         0.         0.         0.\n",
      "  0.         0.         0.         0.        ]\n",
      " [0.         0.         0.         0.         0.         0.\n",
      "  0.         0.         0.         0.         0.         0.\n",
      "  0.         0.         0.         0.         0.         0.\n",
      "  0.         0.         0.         0.         0.         0.\n",
      "  0.         0.         0.         0.        ]]\n",
      "<class 'numpy.ndarray'>\n",
      "<class 'numpy.ndarray'>\n",
      "(1, 28, 28, 1)\n"
     ]
    }
   ],
   "source": [
    "# convert the image to a numpy array\n",
    "# scale the image down to values between 0 - 1 by dividing through maximum (255)\n",
    "inverted_image = np.array(inverted_image, dtype='float32')\n",
    "print(type(inverted_image))\n",
    "print(inverted_image)\n",
    "inverted_image = inverted_image / 255.0 \n",
    "print(inverted_image)\n",
    "print(type(inverted_image))\n",
    "\n",
    "# reshape the image in order to meet the form requirements for the neural network\n",
    "inverted_image = inverted_image.reshape((1,28,28,1))\n",
    "print(type(inverted_image))\n",
    "print(inverted_image.shape)"
   ]
  },
  {
   "cell_type": "code",
   "execution_count": 20,
   "metadata": {},
   "outputs": [
    {
     "name": "stdout",
     "output_type": "stream",
     "text": [
      "[[6.0283244e-11 2.9831498e-11 4.7577661e-04 3.5792090e-02 2.8261004e-13\n",
      "  1.5884014e-16 5.9885853e-13 9.6373081e-01 1.1577955e-06 2.0970896e-07]]\n",
      "The hand written digit was classified as the digit : 7\n"
     ]
    }
   ],
   "source": [
    "# predict the digit of our own image with the trained and tested model\n",
    "# output with highest probability corresponds to the predicted digit by the model\n",
    "predictions = new_model.predict(inverted_image)\n",
    "print(predictions)\n",
    "print(\"The hand written digit was classified as the digit :\",np.argmax(predictions))"
   ]
  },
  {
   "cell_type": "code",
   "execution_count": 21,
   "metadata": {},
   "outputs": [
    {
     "data": {
      "image/png": "[encoded data removed]",
      "text/plain": [
       "<Figure size 432x288 with 1 Axes>"
      ]
     },
     "metadata": {
      "needs_background": "light"
     },
     "output_type": "display_data"
    }
   ],
   "source": [
    "# visualization of the predicted probability for each digit\n",
    "plt.bar(np.arange(len(predictions[0])),predictions[0])\n",
    "plt.xticks(np.arange(len(predictions[0])))\n",
    "plt.ylim(0, 1.1)\n",
    "plt.hlines(1,0,9,color='gray',linestyles='dotted')\n",
    "plt.title(\"Prediction probability\")\n",
    "plt.xlabel(\"Predicted digit\")\n",
    "plt.show()"
   ]
  },
  {
   "cell_type": "code",
   "execution_count": null,
   "metadata": {},
   "outputs": [],
   "source": []
  },
  {
   "cell_type": "code",
   "execution_count": null,
   "metadata": {},
   "outputs": [],
   "source": []
  },
  {
   "cell_type": "code",
   "execution_count": null,
   "metadata": {},
   "outputs": [],
   "source": []
  },
  {
   "cell_type": "code",
   "execution_count": null,
   "metadata": {},
   "outputs": [],
   "source": []
  },
  {
   "cell_type": "code",
   "execution_count": null,
   "metadata": {},
   "outputs": [],
   "source": []
  },
  {
   "cell_type": "code",
   "execution_count": null,
   "metadata": {},
   "outputs": [],
   "source": []
  },
  {
   "cell_type": "code",
   "execution_count": null,
   "metadata": {},
   "outputs": [],
   "source": []
  },
  {
   "cell_type": "code",
   "execution_count": null,
   "metadata": {},
   "outputs": [],
   "source": []
  },
  {
   "cell_type": "code",
   "execution_count": null,
   "metadata": {},
   "outputs": [],
   "source": []
  },
  {
   "cell_type": "code",
   "execution_count": null,
   "metadata": {},
   "outputs": [],
   "source": []
  },
  {
   "cell_type": "code",
   "execution_count": null,
   "metadata": {},
   "outputs": [],
   "source": []
  },
  {
   "cell_type": "code",
   "execution_count": null,
   "metadata": {},
   "outputs": [],
   "source": []
  },
  {
   "cell_type": "code",
   "execution_count": null,
   "metadata": {},
   "outputs": [],
   "source": []
  },
  {
   "cell_type": "code",
   "execution_count": null,
   "metadata": {},
   "outputs": [],
   "source": []
  },
  {
   "cell_type": "code",
   "execution_count": null,
   "metadata": {},
   "outputs": [],
   "source": []
  },
  {
   "cell_type": "code",
   "execution_count": null,
   "metadata": {},
   "outputs": [],
   "source": []
  },
  {
   "cell_type": "code",
   "execution_count": null,
   "metadata": {},
   "outputs": [],
   "source": []
  },
  {
   "cell_type": "code",
   "execution_count": null,
   "metadata": {},
   "outputs": [],
   "source": []
  },
  {
   "cell_type": "code",
   "execution_count": null,
   "metadata": {},
   "outputs": [],
   "source": []
  },
  {
   "cell_type": "code",
   "execution_count": null,
   "metadata": {},
   "outputs": [],
   "source": []
  },
  {
   "cell_type": "code",
   "execution_count": null,
   "metadata": {},
   "outputs": [],
   "source": []
  },
  {
   "cell_type": "code",
   "execution_count": null,
   "metadata": {},
   "outputs": [],
   "source": []
  },
  {
   "cell_type": "code",
   "execution_count": null,
   "metadata": {},
   "outputs": [],
   "source": []
  },
  {
   "cell_type": "code",
   "execution_count": null,
   "metadata": {},
   "outputs": [],
   "source": []
  },
  {
   "cell_type": "code",
   "execution_count": null,
   "metadata": {},
   "outputs": [],
   "source": []
  },
  {
   "cell_type": "code",
   "execution_count": null,
   "metadata": {},
   "outputs": [],
   "source": []
  },
  {
   "cell_type": "code",
   "execution_count": null,
   "metadata": {},
   "outputs": [],
   "source": []
  },
  {
   "cell_type": "code",
   "execution_count": null,
   "metadata": {},
   "outputs": [],
   "source": []
  },
  {
   "cell_type": "code",
   "execution_count": null,
   "metadata": {},
   "outputs": [],
   "source": []
  },
  {
   "cell_type": "code",
   "execution_count": null,
   "metadata": {},
   "outputs": [],
   "source": []
  },
  {
   "cell_type": "code",
   "execution_count": null,
   "metadata": {},
   "outputs": [],
   "source": []
  },
  {
   "cell_type": "code",
   "execution_count": null,
   "metadata": {},
   "outputs": [],
   "source": []
  },
  {
   "cell_type": "code",
   "execution_count": null,
   "metadata": {},
   "outputs": [],
   "source": []
  },
  {
   "cell_type": "code",
   "execution_count": null,
   "metadata": {},
   "outputs": [],
   "source": []
  },
  {
   "cell_type": "code",
   "execution_count": null,
   "metadata": {},
   "outputs": [],
   "source": []
  },
  {
   "cell_type": "code",
   "execution_count": null,
   "metadata": {},
   "outputs": [],
   "source": []
  },
  {
   "cell_type": "code",
   "execution_count": null,
   "metadata": {},
   "outputs": [],
   "source": []
  }
 ],
 "metadata": {
  "kernelspec": {
   "display_name": "Python 3",
   "language": "python",
   "name": "python3"
  },
  "language_info": {
   "codemirror_mode": {
    "name": "ipython",
    "version": 3
   },
   "file_extension": ".py",
   "mimetype": "text/x-python",
   "name": "python",
   "nbconvert_exporter": "python",
   "pygments_lexer": "ipython3",
   "version": "3.8.5"
  }
 },
 "nbformat": 4,
 "nbformat_minor": 4
}
