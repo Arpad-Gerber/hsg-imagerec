{
 "cells": [
  {
   "cell_type": "code",
   "execution_count": 11,
   "metadata": {},
   "outputs": [],
   "source": [
    "# open the necessary packages to develop a convolutional neural network and the relevant MNIST dataset\n",
    "# if packages are not yet downloaded use: pip install\n",
    "import tensorflow as tf\n",
    "import pandas as pd\n",
    "import numpy as np\n",
    "import PIL.ImageOps\n",
    "from keras.datasets import mnist\n",
    "from PIL import Image, ImageFilter\n",
    "from tensorflow.keras.utils import to_categorical\n",
    "from numpy import mean\n",
    "from numpy import std\n",
    "from matplotlib import pyplot as plt\n",
    "from sklearn.model_selection import KFold\n",
    "from keras.datasets import mnist\n",
    "from keras.utils import to_categorical\n",
    "from keras.models import Sequential\n",
    "from keras.layers import Conv2D\n",
    "from keras.layers import MaxPooling2D\n",
    "from keras.layers import Dense\n",
    "from keras.layers import Flatten\n",
    "from keras.optimizers import SGD\n",
    "from PIL import Image, ImageFilter, ImageDraw"
   ]
  },
  {
   "cell_type": "code",
   "execution_count": 12,
   "metadata": {},
   "outputs": [
    {
     "data": {
      "image/png": "[encoded data removed]",
      "text/plain": [
       "<Figure size 432x288 with 9 Axes>"
      ]
     },
     "metadata": {
      "needs_background": "light"
     },
     "output_type": "display_data"
    }
   ],
   "source": [
    "# load the training and test dataset  \n",
    "(trainX, trainY), (testX, testY) = mnist.load_data()\n",
    "\n",
    "# plot first few images of trainig dataset\n",
    "for i in range(9):\n",
    "    plt.subplot(330 + 1 + i)\n",
    "    plt.imshow(trainX[i], cmap=plt.get_cmap('gray'))\n",
    "plt.show()\n",
    "\n",
    "# reshape the datasets (single channel, scale the pixels, color, float numbers) \n",
    "trainX = trainX.reshape((trainX.shape[0], 28, 28, 1))\n",
    "testX = testX.reshape((testX.shape[0], 28, 28, 1))\n",
    "trainY = to_categorical(trainY)\n",
    "testY = to_categorical(testY)\n",
    "train_norm = trainX.astype('float32')\n",
    "test_norm = testX.astype('float32')\n",
    "\n",
    "# normalize the data to a range of 0-1 by dividing through maximum value\n",
    "train_norm = train_norm / 255.0\n",
    "test_norm = test_norm / 255.0\n",
    "trainX = train_norm\n",
    "testX = test_norm"
   ]
  },
  {
   "cell_type": "code",
   "execution_count": null,
   "metadata": {},
   "outputs": [],
   "source": []
  },
  {
   "cell_type": "code",
   "execution_count": 13,
   "metadata": {},
   "outputs": [
    {
     "name": "stdout",
     "output_type": "stream",
     "text": [
      "Model: \"sequential\"\n",
      "_________________________________________________________________\n",
      "Layer (type)                 Output Shape              Param #   \n",
      "=================================================================\n",
      "conv2d (Conv2D)              (None, 26, 26, 32)        320       \n",
      "_________________________________________________________________\n",
      "max_pooling2d (MaxPooling2D) (None, 13, 13, 32)        0         \n",
      "_________________________________________________________________\n",
      "flatten (Flatten)            (None, 5408)              0         \n",
      "_________________________________________________________________\n",
      "dense (Dense)                (None, 100)               540900    \n",
      "_________________________________________________________________\n",
      "dense_1 (Dense)              (None, 10)                1010      \n",
      "=================================================================\n",
      "Total params: 542,230\n",
      "Trainable params: 542,230\n",
      "Non-trainable params: 0\n",
      "_________________________________________________________________\n"
     ]
    }
   ],
   "source": [
    "# build a sequential model (stack of layers where each layer has exactly one input tensor and one output tensor)\n",
    "# layer Conv2D: creates a convolution kernel that is convolved with the layer input to produce a tensor of outputs\n",
    "# layer MaxPooling2D: downsamples the input for 2D spatial data\n",
    "# layer Flatten: flattens input without affecting batch size\n",
    "# layer Dense 1: regular densely-connected neural network layer, relu applies the rectified linear unit activation function\n",
    "# layer Dense 2: regular densely-connected neural network layer, softmax converts a real vector to a vector of categorical probabilities, sum of vector element =1 \n",
    "new_model = Sequential()\n",
    "new_model.add(Conv2D(32, (3, 3), activation='relu', kernel_initializer='he_uniform', input_shape=(28, 28, 1)))\n",
    "new_model.add(MaxPooling2D((2, 2)))\n",
    "new_model.add(Flatten())\n",
    "new_model.add(Dense(100, activation='relu', kernel_initializer='he_uniform'))\n",
    "new_model.add(Dense(10, activation='softmax'))\n",
    "new_model.summary()\n",
    "    \n",
    "# optimize(with learning rate and momentum) and compile the model \n",
    "opt = SGD(lr=0.01, momentum=0.9)\n",
    "new_model.compile(optimizer=opt, loss='categorical_crossentropy', metrics=['accuracy'])"
   ]
  },
  {
   "cell_type": "code",
   "execution_count": 14,
   "metadata": {},
   "outputs": [
    {
     "name": "stdout",
     "output_type": "stream",
     "text": [
      "Epoch 1/10\n",
      "1875/1875 [==============================] - 14s 7ms/step - loss: 0.1709 - accuracy: 0.9480\n",
      "Epoch 2/10\n",
      "1875/1875 [==============================] - 14s 7ms/step - loss: 0.0569 - accuracy: 0.9831\n",
      "Epoch 3/10\n",
      "1875/1875 [==============================] - 13s 7ms/step - loss: 0.0368 - accuracy: 0.9890\n",
      "Epoch 4/10\n",
      "1875/1875 [==============================] - 13s 7ms/step - loss: 0.0254 - accuracy: 0.9924\n",
      "Epoch 5/10\n",
      "1875/1875 [==============================] - 14s 7ms/step - loss: 0.0185 - accuracy: 0.9946\n",
      "Epoch 6/10\n",
      "1875/1875 [==============================] - 15s 8ms/step - loss: 0.0126 - accuracy: 0.9966\n",
      "Epoch 7/10\n",
      "1875/1875 [==============================] - 16s 9ms/step - loss: 0.0085 - accuracy: 0.9978\n",
      "Epoch 8/10\n",
      "1875/1875 [==============================] - 15s 8ms/step - loss: 0.0055 - accuracy: 0.9989\n",
      "Epoch 9/10\n",
      "1875/1875 [==============================] - 14s 8ms/step - loss: 0.0038 - accuracy: 0.9994\n",
      "Epoch 10/10\n",
      "1875/1875 [==============================] - 14s 7ms/step - loss: 0.0022 - accuracy: 0.9998\n"
     ]
    }
   ],
   "source": [
    "# fit the model based on the training data set\n",
    "# epochs = cutoff to separate training data in distinct phases (means we are going 10 times throug training dataset)\n",
    "# batch_size = number of samples per gradient update\n",
    "history = new_model.fit(trainX, trainY, epochs=10, batch_size=32)"
   ]
  },
  {
   "cell_type": "code",
   "execution_count": 36,
   "metadata": {},
   "outputs": [
    {
     "name": "stdout",
     "output_type": "stream",
     "text": [
      "{'loss': [0.17090818285942078, 0.05686601623892784, 0.03676636517047882, 0.02543497085571289, 0.018464665859937668, 0.012562645599246025, 0.008541225455701351, 0.005518526304513216, 0.0037669276352971792, 0.002198829548433423], 'accuracy': [0.9480166435241699, 0.9830666780471802, 0.9890333414077759, 0.9924166798591614, 0.9945833086967468, 0.996566653251648, 0.997783362865448, 0.9988999962806702, 0.9994000196456909, 0.9998166561126709]}\n"
     ]
    }
   ],
   "source": [
    "# At first the history is a keras history object which we convert\n",
    "# to a pandas data frame in order to be able to plot the\n",
    "# developpment of the training loss and the training classification accuracy.\n",
    "print(type(history))\n",
    "print(history.history)\n",
    "hist=pd.DataFrame(data=history.history, dtype='float32')"
   ]
  },
  {
   "cell_type": "code",
   "execution_count": 43,
   "metadata": {},
   "outputs": [
    {
     "data": {
      "image/png": "[encoded data removed]",
      "text/plain": [
       "<Figure size 432x288 with 1 Axes>"
      ]
     },
     "metadata": {
      "needs_background": "light"
     },
     "output_type": "display_data"
    }
   ],
   "source": [
    "# plot accuracy\n",
    "# it is observable how the classification accuracy in the trainingset\n",
    "# increases with every iteration to almost 100%\n",
    "plt.title('Training Classification Accuracy')\n",
    "plt.plot(hist['accuracy'], color='blue', label='train')\n",
    "plt.show()"
   ]
  },
  {
   "cell_type": "code",
   "execution_count": 44,
   "metadata": {},
   "outputs": [
    {
     "data": {
      "text/plain": [
       "[<matplotlib.lines.Line2D at 0x13c290970>]"
      ]
     },
     "execution_count": 44,
     "metadata": {},
     "output_type": "execute_result"
    },
    {
     "data": {
      "image/png": "[encoded data removed]",
      "text/plain": [
       "<Figure size 432x288 with 1 Axes>"
      ]
     },
     "metadata": {
      "needs_background": "light"
     },
     "output_type": "display_data"
    }
   ],
   "source": [
    "# plot loss\n",
    "# similarly our loss decreases with every iteration of the neural network\n",
    "plt.title('Training Loss')\n",
    "plt.plot(hist['loss'], color='blue', label='train')"
   ]
  },
  {
   "cell_type": "code",
   "execution_count": 5,
   "metadata": {},
   "outputs": [
    {
     "name": "stdout",
     "output_type": "stream",
     "text": [
      "313/313 - 1s - loss: 0.0460 - accuracy: 0.9872\n",
      "\n",
      "Test accuracy: 0.9872000217437744\n"
     ]
    }
   ],
   "source": [
    "# evaluate the trained model based on the test accuracy for the test dataset\n",
    "test_loss, test_acc =new_model.evaluate(testX, testY, verbose=2)\n",
    "print('\\nTest accuracy:', test_acc)\n",
    "\n",
    "# test accuracy of 98.7 percent evaluated as reasonably accurate - we proceed\n",
    "# done with the model construction and training"
   ]
  },
  {
   "cell_type": "code",
   "execution_count": 10,
   "metadata": {},
   "outputs": [
    {
     "data": {
      "image/png": "[encoded data removed]",
      "text/plain": [
       "<Figure size 432x288 with 1 Axes>"
      ]
     },
     "metadata": {
      "needs_background": "light"
     },
     "output_type": "display_data"
    }
   ],
   "source": [
    "# build an image converter with the aim that the model predicts the digit of the new uploaded image \n",
    "# open the image, if saved in the same dictionary the name suffices, otherwise use whole savepath\n",
    "im = Image.open('/Users/gerberarpad/Documents/GitHub/hsg-imagerec/Digit Images/IMG4.png')\n",
    "\n",
    "# get the bands in the image since python imaging library allows to store several band in a single image\n",
    "im.getbands() \n",
    "\n",
    "# define type and depth of a pixel in the image\n",
    "# use mode L: 8-bit pixels (has a range of 0-255), black and white\n",
    "im = im.convert('L') \n",
    "im.getbands()\n",
    "\n",
    "# resizing and quality enhancement of the image\n",
    "im = im.resize((20,20), Image.LANCZOS) \n",
    "im = im.filter(ImageFilter.SHARPEN) \n",
    "\n",
    "# convert to a numpy array\n",
    "test = np.array(im, dtype='float32')\n",
    "\n",
    "# examination of the image format through visualization\n",
    "# plot will appear at the end of the output\n",
    "plt.imshow(test, cmap='gray') \n",
    "\n",
    "# insight: Color of the image has to be inverted because in the MNIST dataset they are written in white on a black canvas\n",
    "# insight: Therefore the present digit needs to be color inverted\n",
    "\n",
    "# implementation of color inversion (now black = 0 and white = 255, mode L)\n",
    "newImage = Image.new('L', (28, 28), (255)) \n",
    "\n",
    "# implementation of image centralization (vertical and horizontal distance from upper left corner)\n",
    "newImage.paste(im,(4,4)) \n"
   ]
  },
  {
   "cell_type": "code",
   "execution_count": 9,
   "metadata": {},
   "outputs": [
    {
     "data": {
      "image/png": "[encoded data removed]",
      "text/plain": [
       "<Figure size 432x288 with 1 Axes>"
      ]
     },
     "metadata": {
      "needs_background": "light"
     },
     "output_type": "display_data"
    }
   ],
   "source": [
    "# invert the colors of the image (change black and white) \n",
    "# visualization: illustration of the shape to be recognized by the model\n",
    "inverted_image = PIL.ImageOps.invert(newImage)\n",
    "# convert the image to a numpy array\n",
    "inverted_image = np.array(inverted_image, dtype='float32')\n",
    "converted_image = inverted_image.reshape((28, 28))\n",
    "plt.imshow(converted_image, cmap='gray')\n",
    "plt.show()"
   ]
  },
  {
   "cell_type": "code",
   "execution_count": 13,
   "metadata": {},
   "outputs": [],
   "source": [
    "# scale the color values of the pixels in the image down to values between 0 - 1 by dividing \n",
    "# each of them by the maximum color value of 255\n",
    "inverted_image = inverted_image / 255.0 \n",
    "\n",
    "# reshape the image in order to meet the form requirements for the neural network\n",
    "inverted_image = inverted_image.reshape((1,28,28,1))"
   ]
  },
  {
   "cell_type": "code",
   "execution_count": 14,
   "metadata": {},
   "outputs": [
    {
     "name": "stdout",
     "output_type": "stream",
     "text": [
      "The hand written digit was classified as the digit : 4\n"
     ]
    }
   ],
   "source": [
    "# predict the digit of our own image with the trained and tested model\n",
    "# output with highest probability corresponds to the predicted digit by the model\n",
    "predictions = new_model.predict(inverted_image)\n",
    "print(\"The hand written digit was classified as the digit :\",np.argmax(predictions))"
   ]
  },
  {
   "cell_type": "code",
   "execution_count": 15,
   "metadata": {},
   "outputs": [
    {
     "data": {
      "image/png": "[encoded data removed]",
      "text/plain": [
       "<Figure size 432x288 with 1 Axes>"
      ]
     },
     "metadata": {
      "needs_background": "light"
     },
     "output_type": "display_data"
    }
   ],
   "source": [
    "# visualization of the predicted probability for each digit\n",
    "plt.bar(np.arange(len(predictions[0])),predictions[0])\n",
    "plt.xticks(np.arange(len(predictions[0])))\n",
    "plt.ylim(0, 1.1)\n",
    "plt.hlines(1,0,9,color='gray',linestyles='dotted')\n",
    "plt.title(\"Prediction probability\")\n",
    "plt.xlabel(\"Predicted digit\")\n",
    "plt.show()\n",
    "# the plot below indicates with which probability the input can be assigned to each class of digits."
   ]
  }
 ],
 "metadata": {
  "kernelspec": {
   "display_name": "Python 3",
   "language": "python",
   "name": "python3"
  },
  "language_info": {
   "codemirror_mode": {
    "name": "ipython",
    "version": 3
   },
   "file_extension": ".py",
   "mimetype": "text/x-python",
   "name": "python",
   "nbconvert_exporter": "python",
   "pygments_lexer": "ipython3",
   "version": "3.8.3"
  }
 },
 "nbformat": 4,
 "nbformat_minor": 4
}
