{
 "cells": [
  {
   "cell_type": "code",
   "execution_count": 1,
   "metadata": {},
   "outputs": [],
   "source": [
    "# open the necessary packages to develop a convolutional neural network and the relevant MNIST dataset\n",
    "# if packages not yet downloaded use: pip install\n",
    "import tensorflow as tf\n",
    "import numpy as np\n",
    "import PIL.ImageOps\n",
    "from keras.datasets import mnist\n",
    "from PIL import Image, ImageFilter\n",
    "from tensorflow.keras.utils import to_categorical\n",
    "from numpy import mean\n",
    "from numpy import std\n",
    "from matplotlib import pyplot as plt\n",
    "from sklearn.model_selection import KFold\n",
    "from keras.datasets import mnist\n",
    "from keras.utils import to_categorical\n",
    "from keras.models import Sequential\n",
    "from keras.layers import Conv2D\n",
    "from keras.layers import MaxPooling2D\n",
    "from keras.layers import Dense\n",
    "from keras.layers import Flatten\n",
    "from keras.optimizers import SGD\n",
    "from PIL import Image, ImageFilter, ImageDraw"
   ]
  },
  {
   "cell_type": "code",
   "execution_count": 2,
   "metadata": {},
   "outputs": [],
   "source": [
    "# load the training and test dataset  \n",
    "# reshape the datasets (single channel, scale the pixels, color, float numbers) \n",
    "(trainX, trainY), (testX, testY) = mnist.load_data()\n",
    "trainX = trainX.reshape((trainX.shape[0], 28, 28, 1))\n",
    "testX = testX.reshape((testX.shape[0], 28, 28, 1))\n",
    "trainY = to_categorical(trainY)\n",
    "testY = to_categorical(testY)\n",
    "train_norm = trainX.astype('float32')\n",
    "test_norm = testX.astype('float32')\n",
    "\n",
    "# normalize the data to a range of 0-1 by dividing throug maximum value\n",
    "train_norm = train_norm / 255.0\n",
    "test_norm = test_norm / 255.0\n",
    "trainX = train_norm\n",
    "testX = test_norm"
   ]
  },
  {
   "cell_type": "code",
   "execution_count": 3,
   "metadata": {},
   "outputs": [
    {
     "name": "stdout",
     "output_type": "stream",
     "text": [
      "Model: \"sequential\"\n",
      "_________________________________________________________________\n",
      "Layer (type)                 Output Shape              Param #   \n",
      "=================================================================\n",
      "conv2d (Conv2D)              (None, 26, 26, 32)        320       \n",
      "_________________________________________________________________\n",
      "max_pooling2d (MaxPooling2D) (None, 13, 13, 32)        0         \n",
      "_________________________________________________________________\n",
      "flatten (Flatten)            (None, 5408)              0         \n",
      "_________________________________________________________________\n",
      "dense (Dense)                (None, 100)               540900    \n",
      "_________________________________________________________________\n",
      "dense_1 (Dense)              (None, 10)                1010      \n",
      "=================================================================\n",
      "Total params: 542,230\n",
      "Trainable params: 542,230\n",
      "Non-trainable params: 0\n",
      "_________________________________________________________________\n"
     ]
    }
   ],
   "source": [
    "# build a sequential model (stack of layers where each layer has exactly one input tensor and one output tensor)\n",
    "# layer Conv2D: creates a convolution kernel that is convolved with the layer input to produce a tensor of outputs\n",
    "# layer MaxPooling2D: downsamples the input for 2D spatial data\n",
    "# layer Flatten: flattens input without affecting batch size\n",
    "# layer Dense 1: regular densely-connected neural network layer, relu applies the rectified linear unit activation function\n",
    "# layer Dense 2: regular densely-connected neural network layer, softmax converts a real vector to a vector of categorical probabilities, sum of vector element =1 \n",
    "new_model = Sequential()\n",
    "new_model.add(Conv2D(32, (3, 3), activation='relu', kernel_initializer='he_uniform', input_shape=(28, 28, 1)))\n",
    "new_model.add(MaxPooling2D((2, 2)))\n",
    "new_model.add(Flatten())\n",
    "new_model.add(Dense(100, activation='relu', kernel_initializer='he_uniform'))\n",
    "new_model.add(Dense(10, activation='softmax'))\n",
    "new_model.summary()\n",
    "    \n",
    "# optimize(with learning rate and momentum) and compile the model \n",
    "opt = SGD(lr=0.01, momentum=0.9)\n",
    "new_model.compile(optimizer=opt, loss='categorical_crossentropy', metrics=['accuracy'])"
   ]
  },
  {
   "cell_type": "code",
   "execution_count": 4,
   "metadata": {},
   "outputs": [
    {
     "name": "stdout",
     "output_type": "stream",
     "text": [
      "Epoch 1/10\n",
      "1875/1875 [==============================] - 16s 8ms/step - loss: 0.1612 - accuracy: 0.9512\n",
      "Epoch 2/10\n",
      "1875/1875 [==============================] - 15s 8ms/step - loss: 0.0562 - accuracy: 0.9824\n",
      "Epoch 3/10\n",
      "1875/1875 [==============================] - 15s 8ms/step - loss: 0.0369 - accuracy: 0.9887\n",
      "Epoch 4/10\n",
      "1875/1875 [==============================] - 14s 8ms/step - loss: 0.0264 - accuracy: 0.9918\n",
      "Epoch 5/10\n",
      "1875/1875 [==============================] - 14s 8ms/step - loss: 0.0179 - accuracy: 0.9948\n",
      "Epoch 6/10\n",
      "1875/1875 [==============================] - 16s 8ms/step - loss: 0.0127 - accuracy: 0.9964\n",
      "Epoch 7/10\n",
      "1875/1875 [==============================] - 16s 9ms/step - loss: 0.0083 - accuracy: 0.9981\n",
      "Epoch 8/10\n",
      "1875/1875 [==============================] - 16s 9ms/step - loss: 0.0056 - accuracy: 0.9988\n",
      "Epoch 9/10\n",
      "1875/1875 [==============================] - 17s 9ms/step - loss: 0.0038 - accuracy: 0.9994\n",
      "Epoch 10/10\n",
      "1875/1875 [==============================] - 14s 7ms/step - loss: 0.0029 - accuracy: 0.9995\n"
     ]
    },
    {
     "data": {
      "text/plain": [
       "<tensorflow.python.keras.callbacks.History at 0x1362b4af0>"
      ]
     },
     "execution_count": 4,
     "metadata": {},
     "output_type": "execute_result"
    }
   ],
   "source": [
    "# fit the model based on the training data set\n",
    "# epochs = cutoff to separate training data in distinct phases (means we are going 10 times throug training dataset)\n",
    "# batch_size = number of samples per gradient update\n",
    "new_model.fit(trainX, trainY, epochs=10, batch_size=32)"
   ]
  },
  {
   "cell_type": "code",
   "execution_count": 5,
   "metadata": {},
   "outputs": [
    {
     "name": "stdout",
     "output_type": "stream",
     "text": [
      "313/313 - 1s - loss: 0.0460 - accuracy: 0.9872\n",
      "\n",
      "Test accuracy: 0.9872000217437744\n"
     ]
    }
   ],
   "source": [
    "# evaluate the trained model based on the test accuray for the test dataset\n",
    "test_loss, test_acc =new_model.evaluate(testX, testY, verbose=2)\n",
    "print('\\nTest accuracy:', test_acc)\n",
    "\n",
    "# test accuracy of 98.8 percent evaluated as reasonably accurate - we proceed\n",
    "# done with the model construction and training"
   ]
  },
  {
   "cell_type": "code",
   "execution_count": 12,
   "metadata": {},
   "outputs": [
    {
     "data": {
      "image/png": "[encoded data removed]",
      "text/plain": [
       "<Figure size 432x288 with 1 Axes>"
      ]
     },
     "metadata": {
      "needs_background": "light"
     },
     "output_type": "display_data"
    }
   ],
   "source": [
    "# build an image converter with the aim that the model predicts the digit of the new uploaded image \n",
    "# open the image, if saved in the same dictionary the name suffices, otherwise use whole savepath\n",
    "im = Image.open('IMG4.png')\n",
    "\n",
    "# get the bands in the image since python imaging library allows to store several band in a single image\n",
    "im.getbands() \n",
    "\n",
    "# define type and depth of a pixel in the image\n",
    "# use mode L: 8-bit pixels (has a range of 0-255), black and white\n",
    "im = im.convert('L') \n",
    "im.getbands()\n",
    "\n",
    "# resizing and quality enhancement of the image\n",
    "im = im.resize((20,20), Image.LANCZOS) \n",
    "im = im.filter(ImageFilter.SHARPEN) \n",
    "\n",
    "# convert to a numpy array\n",
    "test = np.array(im, dtype='float32')\n",
    "\n",
    "# examination of the image format through visualization\n",
    "# plot will appear at the end of the output\n",
    "plt.imshow(test, cmap='gray') \n",
    "\n",
    "# insight: Color of the image has to be inverted because in the MNIST dataset they are written in with on a black canvas\n",
    "# insight: Digit needs to be centered\n",
    "\n",
    "# implementation of color inversion (now black = 0 and white = 255, mode L)\n",
    "newImage = Image.new('L', (28, 28), (255)) \n",
    "\n",
    "# implementation of image centralization (vertical and horizontal distance from upper left corner)\n",
    "newImage.paste(im,(4,4)) \n",
    "\n",
    "# invert the colors of the image (change black and white) \n",
    "# visualization: illustration of the shape to be recognized by the model (opened in a new window)\n",
    "inverted_image = PIL.ImageOps.invert(newImage)\n",
    "inverted_image.show()"
   ]
  },
  {
   "cell_type": "code",
   "execution_count": 13,
   "metadata": {},
   "outputs": [],
   "source": [
    "# convert the image to a numpy array\n",
    "inverted_image = np.array(inverted_image, dtype='float32')\n",
    "\n",
    "# scale the image down to values between 0 - 1 by dividing through maximum (255)\n",
    "inverted_image = inverted_image / 255.0 \n",
    "\n",
    "# reshape the image in order to meet the form requirements for the neural network\n",
    "inverted_image = inverted_image.reshape((1,28,28,1))"
   ]
  },
  {
   "cell_type": "code",
   "execution_count": 14,
   "metadata": {},
   "outputs": [
    {
     "name": "stdout",
     "output_type": "stream",
     "text": [
      "The hand written digit was classified as the digit : 4\n"
     ]
    }
   ],
   "source": [
    "# predict the digit of our own image with the trained and tested model\n",
    "# output with highest probability corresponds to the predicted digit by the model\n",
    "predictions = new_model.predict(inverted_image)\n",
    "print(\"The hand written digit was classified as the digit :\",np.argmax(predictions))"
   ]
  },
  {
   "cell_type": "code",
   "execution_count": 15,
   "metadata": {},
   "outputs": [
    {
     "data": {
      "image/png": "[encoded data removed]",
      "text/plain": [
       "<Figure size 432x288 with 1 Axes>"
      ]
     },
     "metadata": {
      "needs_background": "light"
     },
     "output_type": "display_data"
    }
   ],
   "source": [
    "# visualization of the predicted probability for each digit\n",
    "plt.bar(np.arange(len(predictions[0])),predictions[0])\n",
    "plt.xticks(np.arange(len(predictions[0])))\n",
    "plt.ylim(0, 1.1)\n",
    "plt.hlines(1,0,9,color='gray',linestyles='dotted')\n",
    "plt.title(\"Prediction probability\")\n",
    "plt.xlabel(\"Predicted digit\")\n",
    "plt.show()"
   ]
  },
  {
   "cell_type": "code",
   "execution_count": null,
   "metadata": {},
   "outputs": [],
   "source": []
  },
  {
   "cell_type": "code",
   "execution_count": null,
   "metadata": {},
   "outputs": [],
   "source": []
  },
  {
   "cell_type": "code",
   "execution_count": null,
   "metadata": {},
   "outputs": [],
   "source": []
  },
  {
   "cell_type": "code",
   "execution_count": null,
   "metadata": {},
   "outputs": [],
   "source": []
  },
  {
   "cell_type": "code",
   "execution_count": null,
   "metadata": {},
   "outputs": [],
   "source": []
  },
  {
   "cell_type": "code",
   "execution_count": null,
   "metadata": {},
   "outputs": [],
   "source": []
  },
  {
   "cell_type": "code",
   "execution_count": null,
   "metadata": {},
   "outputs": [],
   "source": []
  },
  {
   "cell_type": "code",
   "execution_count": null,
   "metadata": {},
   "outputs": [],
   "source": []
  },
  {
   "cell_type": "code",
   "execution_count": null,
   "metadata": {},
   "outputs": [],
   "source": []
  },
  {
   "cell_type": "code",
   "execution_count": null,
   "metadata": {},
   "outputs": [],
   "source": []
  },
  {
   "cell_type": "code",
   "execution_count": null,
   "metadata": {},
   "outputs": [],
   "source": []
  },
  {
   "cell_type": "code",
   "execution_count": null,
   "metadata": {},
   "outputs": [],
   "source": []
  },
  {
   "cell_type": "code",
   "execution_count": null,
   "metadata": {},
   "outputs": [],
   "source": []
  },
  {
   "cell_type": "code",
   "execution_count": null,
   "metadata": {},
   "outputs": [],
   "source": []
  },
  {
   "cell_type": "code",
   "execution_count": null,
   "metadata": {},
   "outputs": [],
   "source": []
  },
  {
   "cell_type": "code",
   "execution_count": null,
   "metadata": {},
   "outputs": [],
   "source": []
  },
  {
   "cell_type": "code",
   "execution_count": null,
   "metadata": {},
   "outputs": [],
   "source": []
  },
  {
   "cell_type": "code",
   "execution_count": null,
   "metadata": {},
   "outputs": [],
   "source": []
  },
  {
   "cell_type": "code",
   "execution_count": null,
   "metadata": {},
   "outputs": [],
   "source": []
  },
  {
   "cell_type": "code",
   "execution_count": null,
   "metadata": {},
   "outputs": [],
   "source": []
  },
  {
   "cell_type": "code",
   "execution_count": null,
   "metadata": {},
   "outputs": [],
   "source": []
  },
  {
   "cell_type": "code",
   "execution_count": null,
   "metadata": {},
   "outputs": [],
   "source": []
  },
  {
   "cell_type": "code",
   "execution_count": null,
   "metadata": {},
   "outputs": [],
   "source": []
  },
  {
   "cell_type": "code",
   "execution_count": null,
   "metadata": {},
   "outputs": [],
   "source": []
  },
  {
   "cell_type": "code",
   "execution_count": null,
   "metadata": {},
   "outputs": [],
   "source": []
  },
  {
   "cell_type": "code",
   "execution_count": null,
   "metadata": {},
   "outputs": [],
   "source": []
  },
  {
   "cell_type": "code",
   "execution_count": null,
   "metadata": {},
   "outputs": [],
   "source": []
  },
  {
   "cell_type": "code",
   "execution_count": null,
   "metadata": {},
   "outputs": [],
   "source": []
  },
  {
   "cell_type": "code",
   "execution_count": null,
   "metadata": {},
   "outputs": [],
   "source": []
  },
  {
   "cell_type": "code",
   "execution_count": null,
   "metadata": {},
   "outputs": [],
   "source": []
  },
  {
   "cell_type": "code",
   "execution_count": null,
   "metadata": {},
   "outputs": [],
   "source": []
  },
  {
   "cell_type": "code",
   "execution_count": null,
   "metadata": {},
   "outputs": [],
   "source": []
  },
  {
   "cell_type": "code",
   "execution_count": null,
   "metadata": {},
   "outputs": [],
   "source": []
  },
  {
   "cell_type": "code",
   "execution_count": null,
   "metadata": {},
   "outputs": [],
   "source": []
  },
  {
   "cell_type": "code",
   "execution_count": null,
   "metadata": {},
   "outputs": [],
   "source": []
  },
  {
   "cell_type": "code",
   "execution_count": null,
   "metadata": {},
   "outputs": [],
   "source": []
  },
  {
   "cell_type": "code",
   "execution_count": null,
   "metadata": {},
   "outputs": [],
   "source": []
  }
 ],
 "metadata": {
  "kernelspec": {
   "display_name": "Python 3",
   "language": "python",
   "name": "python3"
  },
  "language_info": {
   "codemirror_mode": {
    "name": "ipython",
    "version": 3
   },
   "file_extension": ".py",
   "mimetype": "text/x-python",
   "name": "python",
   "nbconvert_exporter": "python",
   "pygments_lexer": "ipython3",
   "version": "3.8.5"
  }
 },
 "nbformat": 4,
 "nbformat_minor": 4
}
