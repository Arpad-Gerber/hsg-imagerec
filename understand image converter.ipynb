{
 "cells": [
  {
   "cell_type": "code",
   "execution_count": 28,
   "metadata": {},
   "outputs": [],
   "source": [
    "import numpy as np\n",
    "from PIL import Image, ImageFilter, ImageDraw\n",
    "import PIL.ImageOps\n",
    "from matplotlib import pyplot as plt\n"
   ]
  },
  {
   "cell_type": "markdown",
   "metadata": {},
   "source": [
    "# Onw Version of the image preparation"
   ]
  },
  {
   "cell_type": "code",
   "execution_count": 41,
   "metadata": {},
   "outputs": [
    {
     "name": "stdout",
     "output_type": "stream",
     "text": [
      "<class 'PIL.Image.Image'>\n",
      "(296, 322)\n",
      "(20, 20)\n",
      "<class 'PIL.Image.Image'>\n",
      "<PIL.Image.Image image mode=L size=20x20 at 0x1164C0340>\n",
      "<class 'numpy.ndarray'>\n",
      "[[253. 255. 196. 120. 119. 126. 143. 152. 160. 167. 179. 186. 187. 187.\n",
      "  191. 198. 208. 233. 255. 255.]\n",
      " [255. 255.   0.   0.   0.   0.   0.   0.   0.   0.   0.   0.   0.   0.\n",
      "    0.   0.   0.   0. 115. 254.]\n",
      " [254. 255.   0.   0.   0.   0.   0.   0.   0.   0.   0.   0.   0.   0.\n",
      "    0.   0.   0.   0.   0. 244.]\n",
      " [254. 255. 255. 238. 246. 233. 204. 193. 185. 167. 147. 137. 135. 158.\n",
      "  143.   0.   1.   0.  72. 254.]\n",
      " [255. 255. 255. 255. 255. 255. 255. 255. 255. 255. 255. 255. 255. 255.\n",
      "  117.   0.   0.  13. 255. 253.]\n",
      " [255. 255. 253. 250. 250. 250. 248. 248. 248. 249. 249. 243. 255. 235.\n",
      "    0.   0.   0. 255. 255. 253.]\n",
      " [255. 255. 255. 255. 255. 255. 255. 255. 255. 253. 254. 255. 255.  11.\n",
      "    0.   0. 102. 255. 252. 255.]\n",
      " [255. 255. 255. 255. 255. 255. 255. 253. 255. 255. 255. 255. 209.   0.\n",
      "    0.   1. 255. 255. 255. 255.]\n",
      " [255. 255. 255. 255. 255. 255. 255. 255. 255. 255. 255. 255.   0.   0.\n",
      "    0.  60. 140. 249. 255. 253.]\n",
      " [255. 255. 255. 255. 255. 254. 255. 255.   0.   0.   0.   0.   0.   0.\n",
      "    1.   0.   0.   0. 255. 253.]\n",
      " [255. 255. 255. 255. 255. 249. 255. 210.   0.   0.   0.   0.   0.   0.\n",
      "    0.   0.   0.  62. 255. 253.]\n",
      " [255. 255. 255. 255. 255. 255. 255. 255.  98. 103.   8.   0.   0.   7.\n",
      "  153. 211. 255. 255. 255. 255.]\n",
      " [255. 255. 255. 255. 255. 255. 255. 255. 255. 255.   0.   0.   0. 255.\n",
      "  255. 255. 255. 255. 255. 255.]\n",
      " [255. 255. 255. 255. 255. 255. 254. 255. 255.   0.   0.   0. 116. 255.\n",
      "  248. 250. 251. 255. 255. 255.]\n",
      " [255. 255. 255. 255. 255. 255. 255. 255. 114.   0.   0.   0. 255. 255.\n",
      "  255. 255. 255. 255. 255. 255.]\n",
      " [255. 255. 255. 255. 255. 252. 255. 255.   0.   0.   0. 240. 255. 251.\n",
      "  255. 255. 255. 255. 255. 255.]\n",
      " [255. 255. 255. 255. 255. 248. 255.  38.   0.   0.  56. 255. 255. 255.\n",
      "  255. 255. 255. 255. 255. 255.]\n",
      " [255. 255. 255. 255. 255. 250. 255.  95.   0.   0. 255. 255. 252. 255.\n",
      "  255. 255. 255. 255. 255. 255.]\n",
      " [255. 255. 255. 255. 255. 255. 255. 255. 219. 255. 255. 255. 255. 255.\n",
      "  255. 255. 255. 255. 255. 255.]\n",
      " [255. 255. 255. 255. 255. 255. 255. 255. 255. 255. 254. 255. 255. 255.\n",
      "  255. 255. 255. 255. 255. 255.]]\n",
      "<class 'numpy.ndarray'>\n",
      "[[  0.   0.   0.   0.   0.   0.   0.   0.   0.   0.   0.   0.   0.   0.\n",
      "    0.   0.   0.   0.   0.   0.   0.   0.   0.   0.   0.   0.   0.   0.]\n",
      " [  0.   0.   0.   0.   0.   0.   0.   0.   0.   0.   0.   0.   0.   0.\n",
      "    0.   0.   0.   0.   0.   0.   0.   0.   0.   0.   0.   0.   0.   0.]\n",
      " [  0.   0.   0.   0.   0.   0.   0.   0.   0.   0.   0.   0.   0.   0.\n",
      "    0.   0.   0.   0.   0.   0.   0.   0.   0.   0.   0.   0.   0.   0.]\n",
      " [  0.   0.   0.   0.   0.   0.   0.   0.   0.   0.   0.   0.   0.   0.\n",
      "    0.   0.   0.   0.   0.   0.   0.   0.   0.   0.   0.   0.   0.   0.]\n",
      " [  0.   0.   0.   0.   2.   0.  59. 135. 136. 129. 112. 103.  95.  88.\n",
      "   76.  69.  68.  68.  64.  57.  47.  22.   0.   0.   0.   0.   0.   0.]\n",
      " [  0.   0.   0.   0.   0.   0. 255. 255. 255. 255. 255. 255. 255. 255.\n",
      "  255. 255. 255. 255. 255. 255. 255. 255. 140.   1.   0.   0.   0.   0.]\n",
      " [  0.   0.   0.   0.   1.   0. 255. 255. 255. 255. 255. 255. 255. 255.\n",
      "  255. 255. 255. 255. 255. 255. 255. 255. 255.  11.   0.   0.   0.   0.]\n",
      " [  0.   0.   0.   0.   1.   0.   0.  17.   9.  22.  51.  62.  70.  88.\n",
      "  108. 118. 120.  97. 112. 255. 254. 255. 183.   1.   0.   0.   0.   0.]\n",
      " [  0.   0.   0.   0.   0.   0.   0.   0.   0.   0.   0.   0.   0.   0.\n",
      "    0.   0.   0.   0. 138. 255. 255. 242.   0.   2.   0.   0.   0.   0.]\n",
      " [  0.   0.   0.   0.   0.   0.   2.   5.   5.   5.   7.   7.   7.   6.\n",
      "    6.  12.   0.  20. 255. 255. 255.   0.   0.   2.   0.   0.   0.   0.]\n",
      " [  0.   0.   0.   0.   0.   0.   0.   0.   0.   0.   0.   0.   0.   2.\n",
      "    1.   0.   0. 244. 255. 255. 153.   0.   3.   0.   0.   0.   0.   0.]\n",
      " [  0.   0.   0.   0.   0.   0.   0.   0.   0.   0.   0.   2.   0.   0.\n",
      "    0.   0.  46. 255. 255. 254.   0.   0.   0.   0.   0.   0.   0.   0.]\n",
      " [  0.   0.   0.   0.   0.   0.   0.   0.   0.   0.   0.   0.   0.   0.\n",
      "    0.   0. 255. 255. 255. 195. 115.   6.   0.   2.   0.   0.   0.   0.]\n",
      " [  0.   0.   0.   0.   0.   0.   0.   0.   0.   1.   0.   0. 255. 255.\n",
      "  255. 255. 255. 255. 254. 255. 255. 255.   0.   2.   0.   0.   0.   0.]\n",
      " [  0.   0.   0.   0.   0.   0.   0.   0.   0.   6.   0.  45. 255. 255.\n",
      "  255. 255. 255. 255. 255. 255. 255. 193.   0.   2.   0.   0.   0.   0.]\n",
      " [  0.   0.   0.   0.   0.   0.   0.   0.   0.   0.   0.   0. 157. 152.\n",
      "  247. 255. 255. 248. 102.  44.   0.   0.   0.   0.   0.   0.   0.   0.]\n",
      " [  0.   0.   0.   0.   0.   0.   0.   0.   0.   0.   0.   0.   0.   0.\n",
      "  255. 255. 255.   0.   0.   0.   0.   0.   0.   0.   0.   0.   0.   0.]\n",
      " [  0.   0.   0.   0.   0.   0.   0.   0.   0.   0.   1.   0.   0. 255.\n",
      "  255. 255. 139.   0.   7.   5.   4.   0.   0.   0.   0.   0.   0.   0.]\n",
      " [  0.   0.   0.   0.   0.   0.   0.   0.   0.   0.   0.   0. 141. 255.\n",
      "  255. 255.   0.   0.   0.   0.   0.   0.   0.   0.   0.   0.   0.   0.]\n",
      " [  0.   0.   0.   0.   0.   0.   0.   0.   0.   3.   0.   0. 255. 255.\n",
      "  255.  15.   0.   4.   0.   0.   0.   0.   0.   0.   0.   0.   0.   0.]\n",
      " [  0.   0.   0.   0.   0.   0.   0.   0.   0.   7.   0. 217. 255. 255.\n",
      "  199.   0.   0.   0.   0.   0.   0.   0.   0.   0.   0.   0.   0.   0.]\n",
      " [  0.   0.   0.   0.   0.   0.   0.   0.   0.   5.   0. 160. 255. 255.\n",
      "    0.   0.   3.   0.   0.   0.   0.   0.   0.   0.   0.   0.   0.   0.]\n",
      " [  0.   0.   0.   0.   0.   0.   0.   0.   0.   0.   0.   0.  36.   0.\n",
      "    0.   0.   0.   0.   0.   0.   0.   0.   0.   0.   0.   0.   0.   0.]\n",
      " [  0.   0.   0.   0.   0.   0.   0.   0.   0.   0.   0.   0.   0.   0.\n",
      "    1.   0.   0.   0.   0.   0.   0.   0.   0.   0.   0.   0.   0.   0.]\n",
      " [  0.   0.   0.   0.   0.   0.   0.   0.   0.   0.   0.   0.   0.   0.\n",
      "    0.   0.   0.   0.   0.   0.   0.   0.   0.   0.   0.   0.   0.   0.]\n",
      " [  0.   0.   0.   0.   0.   0.   0.   0.   0.   0.   0.   0.   0.   0.\n",
      "    0.   0.   0.   0.   0.   0.   0.   0.   0.   0.   0.   0.   0.   0.]\n",
      " [  0.   0.   0.   0.   0.   0.   0.   0.   0.   0.   0.   0.   0.   0.\n",
      "    0.   0.   0.   0.   0.   0.   0.   0.   0.   0.   0.   0.   0.   0.]\n",
      " [  0.   0.   0.   0.   0.   0.   0.   0.   0.   0.   0.   0.   0.   0.\n",
      "    0.   0.   0.   0.   0.   0.   0.   0.   0.   0.   0.   0.   0.   0.]]\n",
      "[[0.         0.         0.         0.         0.         0.\n",
      "  0.         0.         0.         0.         0.         0.\n",
      "  0.         0.         0.         0.         0.         0.\n",
      "  0.         0.         0.         0.         0.         0.\n",
      "  0.         0.         0.         0.        ]\n",
      " [0.         0.         0.         0.         0.         0.\n",
      "  0.         0.         0.         0.         0.         0.\n",
      "  0.         0.         0.         0.         0.         0.\n",
      "  0.         0.         0.         0.         0.         0.\n",
      "  0.         0.         0.         0.        ]\n",
      " [0.         0.         0.         0.         0.         0.\n",
      "  0.         0.         0.         0.         0.         0.\n",
      "  0.         0.         0.         0.         0.         0.\n",
      "  0.         0.         0.         0.         0.         0.\n",
      "  0.         0.         0.         0.        ]\n",
      " [0.         0.         0.         0.         0.         0.\n",
      "  0.         0.         0.         0.         0.         0.\n",
      "  0.         0.         0.         0.         0.         0.\n",
      "  0.         0.         0.         0.         0.         0.\n",
      "  0.         0.         0.         0.        ]\n",
      " [0.         0.         0.         0.         0.00784314 0.\n",
      "  0.23137255 0.5294118  0.53333336 0.5058824  0.4392157  0.40392157\n",
      "  0.37254903 0.34509805 0.29803923 0.27058825 0.26666668 0.26666668\n",
      "  0.2509804  0.22352941 0.18431373 0.08627451 0.         0.\n",
      "  0.         0.         0.         0.        ]\n",
      " [0.         0.         0.         0.         0.         0.\n",
      "  1.         1.         1.         1.         1.         1.\n",
      "  1.         1.         1.         1.         1.         1.\n",
      "  1.         1.         1.         1.         0.54901963 0.00392157\n",
      "  0.         0.         0.         0.        ]\n",
      " [0.         0.         0.         0.         0.00392157 0.\n",
      "  1.         1.         1.         1.         1.         1.\n",
      "  1.         1.         1.         1.         1.         1.\n",
      "  1.         1.         1.         1.         1.         0.04313726\n",
      "  0.         0.         0.         0.        ]\n",
      " [0.         0.         0.         0.         0.00392157 0.\n",
      "  0.         0.06666667 0.03529412 0.08627451 0.2        0.24313726\n",
      "  0.27450982 0.34509805 0.42352942 0.4627451  0.47058824 0.38039216\n",
      "  0.4392157  1.         0.99607843 1.         0.7176471  0.00392157\n",
      "  0.         0.         0.         0.        ]\n",
      " [0.         0.         0.         0.         0.         0.\n",
      "  0.         0.         0.         0.         0.         0.\n",
      "  0.         0.         0.         0.         0.         0.\n",
      "  0.5411765  1.         1.         0.9490196  0.         0.00784314\n",
      "  0.         0.         0.         0.        ]\n",
      " [0.         0.         0.         0.         0.         0.\n",
      "  0.00784314 0.01960784 0.01960784 0.01960784 0.02745098 0.02745098\n",
      "  0.02745098 0.02352941 0.02352941 0.04705882 0.         0.07843138\n",
      "  1.         1.         1.         0.         0.         0.00784314\n",
      "  0.         0.         0.         0.        ]\n",
      " [0.         0.         0.         0.         0.         0.\n",
      "  0.         0.         0.         0.         0.         0.\n",
      "  0.         0.00784314 0.00392157 0.         0.         0.95686275\n",
      "  1.         1.         0.6        0.         0.01176471 0.\n",
      "  0.         0.         0.         0.        ]\n",
      " [0.         0.         0.         0.         0.         0.\n",
      "  0.         0.         0.         0.         0.         0.00784314\n",
      "  0.         0.         0.         0.         0.18039216 1.\n",
      "  1.         0.99607843 0.         0.         0.         0.\n",
      "  0.         0.         0.         0.        ]\n",
      " [0.         0.         0.         0.         0.         0.\n",
      "  0.         0.         0.         0.         0.         0.\n",
      "  0.         0.         0.         0.         1.         1.\n",
      "  1.         0.7647059  0.4509804  0.02352941 0.         0.00784314\n",
      "  0.         0.         0.         0.        ]\n",
      " [0.         0.         0.         0.         0.         0.\n",
      "  0.         0.         0.         0.00392157 0.         0.\n",
      "  1.         1.         1.         1.         1.         1.\n",
      "  0.99607843 1.         1.         1.         0.         0.00784314\n",
      "  0.         0.         0.         0.        ]\n",
      " [0.         0.         0.         0.         0.         0.\n",
      "  0.         0.         0.         0.02352941 0.         0.1764706\n",
      "  1.         1.         1.         1.         1.         1.\n",
      "  1.         1.         1.         0.75686276 0.         0.00784314\n",
      "  0.         0.         0.         0.        ]\n",
      " [0.         0.         0.         0.         0.         0.\n",
      "  0.         0.         0.         0.         0.         0.\n",
      "  0.6156863  0.59607846 0.96862745 1.         1.         0.972549\n",
      "  0.4        0.17254902 0.         0.         0.         0.\n",
      "  0.         0.         0.         0.        ]\n",
      " [0.         0.         0.         0.         0.         0.\n",
      "  0.         0.         0.         0.         0.         0.\n",
      "  0.         0.         1.         1.         1.         0.\n",
      "  0.         0.         0.         0.         0.         0.\n",
      "  0.         0.         0.         0.        ]\n",
      " [0.         0.         0.         0.         0.         0.\n",
      "  0.         0.         0.         0.         0.00392157 0.\n",
      "  0.         1.         1.         1.         0.54509807 0.\n",
      "  0.02745098 0.01960784 0.01568628 0.         0.         0.\n",
      "  0.         0.         0.         0.        ]\n",
      " [0.         0.         0.         0.         0.         0.\n",
      "  0.         0.         0.         0.         0.         0.\n",
      "  0.5529412  1.         1.         1.         0.         0.\n",
      "  0.         0.         0.         0.         0.         0.\n",
      "  0.         0.         0.         0.        ]\n",
      " [0.         0.         0.         0.         0.         0.\n",
      "  0.         0.         0.         0.01176471 0.         0.\n",
      "  1.         1.         1.         0.05882353 0.         0.01568628\n",
      "  0.         0.         0.         0.         0.         0.\n",
      "  0.         0.         0.         0.        ]\n",
      " [0.         0.         0.         0.         0.         0.\n",
      "  0.         0.         0.         0.02745098 0.         0.8509804\n",
      "  1.         1.         0.78039217 0.         0.         0.\n",
      "  0.         0.         0.         0.         0.         0.\n",
      "  0.         0.         0.         0.        ]\n",
      " [0.         0.         0.         0.         0.         0.\n",
      "  0.         0.         0.         0.01960784 0.         0.627451\n",
      "  1.         1.         0.         0.         0.01176471 0.\n",
      "  0.         0.         0.         0.         0.         0.\n",
      "  0.         0.         0.         0.        ]\n",
      " [0.         0.         0.         0.         0.         0.\n",
      "  0.         0.         0.         0.         0.         0.\n",
      "  0.14117648 0.         0.         0.         0.         0.\n",
      "  0.         0.         0.         0.         0.         0.\n",
      "  0.         0.         0.         0.        ]\n",
      " [0.         0.         0.         0.         0.         0.\n",
      "  0.         0.         0.         0.         0.         0.\n",
      "  0.         0.         0.00392157 0.         0.         0.\n",
      "  0.         0.         0.         0.         0.         0.\n",
      "  0.         0.         0.         0.        ]\n",
      " [0.         0.         0.         0.         0.         0.\n",
      "  0.         0.         0.         0.         0.         0.\n",
      "  0.         0.         0.         0.         0.         0.\n",
      "  0.         0.         0.         0.         0.         0.\n",
      "  0.         0.         0.         0.        ]\n",
      " [0.         0.         0.         0.         0.         0.\n",
      "  0.         0.         0.         0.         0.         0.\n",
      "  0.         0.         0.         0.         0.         0.\n",
      "  0.         0.         0.         0.         0.         0.\n",
      "  0.         0.         0.         0.        ]\n",
      " [0.         0.         0.         0.         0.         0.\n",
      "  0.         0.         0.         0.         0.         0.\n",
      "  0.         0.         0.         0.         0.         0.\n",
      "  0.         0.         0.         0.         0.         0.\n",
      "  0.         0.         0.         0.        ]\n",
      " [0.         0.         0.         0.         0.         0.\n",
      "  0.         0.         0.         0.         0.         0.\n",
      "  0.         0.         0.         0.         0.         0.\n",
      "  0.         0.         0.         0.         0.         0.\n",
      "  0.         0.         0.         0.        ]]\n",
      "<class 'numpy.ndarray'>\n",
      "<class 'numpy.ndarray'>\n",
      "(1, 28, 28, 1)\n"
     ]
    },
    {
     "data": {
      "image/png": "[encoded data removed]",
      "text/plain": [
       "<Figure size 432x288 with 1 Axes>"
      ]
     },
     "metadata": {
      "needs_background": "light"
     },
     "output_type": "display_data"
    }
   ],
   "source": [
    "# https://pillow.readthedocs.io/en/stable/handbook/concepts.html#concept-modes\n",
    "im = Image.open('IMG7.png')\n",
    "# BANDS\n",
    "\n",
    "# An image can consist of one or more bands of data. \n",
    "# The Python Imaging Library allows you to store several \n",
    "# bands in a single image, provided they all have the same \n",
    "# dimensions and depth. For example, a PNG image might have ‘R’, ‘G’, ‘B’, and ‘A’ \n",
    "# bands for the red, green, blue, and alpha transparency values. Many operations act \n",
    "# on each band separately, e.g., histograms. It is often useful to think of each \n",
    "# pixel as having one value per band.\n",
    "\n",
    "\n",
    "im.getbands() # red, green, blue\n",
    "\n",
    "im = im.convert('L') # mode = L –>  (8-bit pixels, black and white)\n",
    "# The mode of an image is a string which defines \n",
    "# the type and depth of a pixel in the image. \n",
    "# Each pixel uses the full range of the bit depth. \n",
    "# So a 1-bit pixel has a range of 0-1, an 8-bit pixel \n",
    "# has a range of 0-255 and so on. \n",
    "\n",
    "im.getbands() # ('L',)\n",
    "\n",
    "print(type(im)) # <class 'PIL.Image.Image'>\n",
    "\n",
    "print(im.size) # im[0]->width , im[1]--> height im.size = (296, 322)\n",
    "\n",
    "im = im.resize((20,20), Image.LANCZOS) # lancos is new name for antialias and is a filter used when resizing\n",
    "# the picture\n",
    "im = im.filter(ImageFilter.SHARPEN) # image enhancement filter (can also be left out)\n",
    "# https://pillow.readthedocs.io/en/5.1.x/reference/ImageFilter.html\n",
    "print(im.size)\n",
    "\n",
    "print(type(im))\n",
    "\n",
    "print(im)\n",
    "\n",
    "test = np.array(im, dtype='float32')\n",
    "\n",
    "print(type(test))\n",
    "\n",
    "print(test)\n",
    "\n",
    "plt.imshow(test, cmap='gray') \n",
    "# plot will appear at the end of the output\n",
    "\n",
    "# picture has to be inverted because the digits\n",
    "# from MNIST are white written on a black canvas. Also the digit is not centered now.\n",
    "# that is what reshape 20 was used for in the other code. it resized the image to\n",
    "# 20 by 20 pixels to then be able to paste it on the 28 by 28 empty canvas.\n",
    "# then the picture has a 4 pixel distance to each side of the canvas.\n",
    "#plt.show()\n",
    "\n",
    "#print(type(im))\n",
    "\n",
    "newImage = Image.new('L', (28, 28), (255)) \n",
    "# create new white (255) \n",
    "# (black if color is omitted or 0) image. Mode is L\n",
    "# so the color must be a single integer or floar value\n",
    "# https://www.geeksforgeeks.org/python-pil-image-new-method/\n",
    "# https://pillow.readthedocs.io/en/stable/reference/ImageColor.html\n",
    "# newImage.show()\n",
    "\n",
    "newImage.paste(im,(4,4)) # the distance from the height and width of the upper left corner\n",
    "# https://note.nkmk.me/en/python-pillow-paste/\n",
    "# newImage.show()\n",
    "\n",
    "inverted_image = PIL.ImageOps.invert(newImage)# invert the color of the image.\n",
    "# https://stackoverflow.com/questions/2498875/how-to-invert-colors-of-image-with-pil-python-imaging\n",
    "# before 0 was black and 1 was white, now it is the other way around\n",
    "inverted_image.show()\n",
    "\n",
    "# now convert it to a numpy array\n",
    "\n",
    "inverted_image = np.array(inverted_image, dtype='float32')\n",
    "\n",
    "print(type(inverted_image))\n",
    "\n",
    "print(inverted_image)\n",
    "\n",
    "inverted_image = inverted_image / 255.0 # scale it down to values between 0 and 1\n",
    "\n",
    "\n",
    "print(inverted_image)\n",
    "print(type(inverted_image))\n",
    "\n",
    "# reshape so it has the correct form for the neural network\n",
    "\n",
    "inverted_image = inverted_image.reshape((1,28, 28,1)) # since we only have 1 image testX.reshape((testX.shape[0], 28, 28, 1))\n",
    "# was not working. image.shape[0] indicates how many entries there are\n",
    "\n",
    "print(type(inverted_image))\n",
    "print(inverted_image.shape)"
   ]
  },
  {
   "cell_type": "code",
   "execution_count": null,
   "metadata": {},
   "outputs": [],
   "source": []
  },
  {
   "cell_type": "code",
   "execution_count": null,
   "metadata": {},
   "outputs": [],
   "source": []
  },
  {
   "cell_type": "code",
   "execution_count": null,
   "metadata": {},
   "outputs": [],
   "source": []
  },
  {
   "cell_type": "code",
   "execution_count": null,
   "metadata": {},
   "outputs": [],
   "source": []
  },
  {
   "cell_type": "code",
   "execution_count": null,
   "metadata": {},
   "outputs": [],
   "source": []
  },
  {
   "cell_type": "code",
   "execution_count": null,
   "metadata": {},
   "outputs": [],
   "source": []
  },
  {
   "cell_type": "code",
   "execution_count": null,
   "metadata": {},
   "outputs": [],
   "source": []
  },
  {
   "cell_type": "code",
   "execution_count": null,
   "metadata": {},
   "outputs": [],
   "source": []
  },
  {
   "cell_type": "code",
   "execution_count": null,
   "metadata": {},
   "outputs": [],
   "source": []
  },
  {
   "cell_type": "code",
   "execution_count": null,
   "metadata": {},
   "outputs": [],
   "source": []
  },
  {
   "cell_type": "code",
   "execution_count": null,
   "metadata": {},
   "outputs": [],
   "source": []
  },
  {
   "cell_type": "code",
   "execution_count": null,
   "metadata": {},
   "outputs": [],
   "source": []
  },
  {
   "cell_type": "code",
   "execution_count": null,
   "metadata": {},
   "outputs": [],
   "source": []
  },
  {
   "cell_type": "code",
   "execution_count": null,
   "metadata": {},
   "outputs": [],
   "source": []
  },
  {
   "cell_type": "code",
   "execution_count": null,
   "metadata": {},
   "outputs": [],
   "source": []
  },
  {
   "cell_type": "code",
   "execution_count": null,
   "metadata": {},
   "outputs": [],
   "source": []
  },
  {
   "cell_type": "code",
   "execution_count": null,
   "metadata": {},
   "outputs": [],
   "source": []
  },
  {
   "cell_type": "code",
   "execution_count": null,
   "metadata": {},
   "outputs": [],
   "source": []
  },
  {
   "cell_type": "code",
   "execution_count": null,
   "metadata": {},
   "outputs": [],
   "source": []
  },
  {
   "cell_type": "code",
   "execution_count": null,
   "metadata": {},
   "outputs": [],
   "source": []
  },
  {
   "cell_type": "code",
   "execution_count": null,
   "metadata": {},
   "outputs": [],
   "source": []
  },
  {
   "cell_type": "code",
   "execution_count": null,
   "metadata": {},
   "outputs": [],
   "source": []
  },
  {
   "cell_type": "code",
   "execution_count": null,
   "metadata": {},
   "outputs": [],
   "source": []
  },
  {
   "cell_type": "code",
   "execution_count": null,
   "metadata": {},
   "outputs": [],
   "source": []
  },
  {
   "cell_type": "code",
   "execution_count": null,
   "metadata": {},
   "outputs": [],
   "source": []
  },
  {
   "cell_type": "code",
   "execution_count": null,
   "metadata": {},
   "outputs": [],
   "source": []
  },
  {
   "cell_type": "code",
   "execution_count": null,
   "metadata": {},
   "outputs": [],
   "source": []
  },
  {
   "cell_type": "code",
   "execution_count": null,
   "metadata": {},
   "outputs": [],
   "source": []
  },
  {
   "cell_type": "code",
   "execution_count": null,
   "metadata": {},
   "outputs": [],
   "source": []
  },
  {
   "cell_type": "code",
   "execution_count": 10,
   "metadata": {},
   "outputs": [
    {
     "data": {
      "image/png": "[encoded data removed]",
      "text/plain": [
       "<Figure size 432x288 with 1 Axes>"
      ]
     },
     "metadata": {
      "needs_background": "light"
     },
     "output_type": "display_data"
    }
   ],
   "source": [
    "\n",
    "plt.imshow(im, cmap='gray')\n",
    "plt.show()"
   ]
  },
  {
   "cell_type": "code",
   "execution_count": null,
   "metadata": {},
   "outputs": [],
   "source": []
  },
  {
   "cell_type": "code",
   "execution_count": null,
   "metadata": {},
   "outputs": [],
   "source": []
  },
  {
   "cell_type": "code",
   "execution_count": null,
   "metadata": {},
   "outputs": [],
   "source": []
  },
  {
   "cell_type": "code",
   "execution_count": null,
   "metadata": {},
   "outputs": [],
   "source": []
  },
  {
   "cell_type": "code",
   "execution_count": null,
   "metadata": {},
   "outputs": [],
   "source": []
  },
  {
   "cell_type": "code",
   "execution_count": null,
   "metadata": {},
   "outputs": [],
   "source": []
  },
  {
   "cell_type": "code",
   "execution_count": null,
   "metadata": {},
   "outputs": [],
   "source": []
  },
  {
   "cell_type": "code",
   "execution_count": null,
   "metadata": {},
   "outputs": [],
   "source": []
  },
  {
   "cell_type": "code",
   "execution_count": null,
   "metadata": {},
   "outputs": [],
   "source": []
  },
  {
   "cell_type": "code",
   "execution_count": null,
   "metadata": {},
   "outputs": [],
   "source": []
  },
  {
   "cell_type": "code",
   "execution_count": null,
   "metadata": {},
   "outputs": [],
   "source": []
  },
  {
   "cell_type": "code",
   "execution_count": null,
   "metadata": {},
   "outputs": [],
   "source": []
  },
  {
   "cell_type": "code",
   "execution_count": null,
   "metadata": {},
   "outputs": [],
   "source": []
  },
  {
   "cell_type": "code",
   "execution_count": null,
   "metadata": {},
   "outputs": [],
   "source": []
  },
  {
   "cell_type": "code",
   "execution_count": null,
   "metadata": {},
   "outputs": [],
   "source": []
  },
  {
   "cell_type": "code",
   "execution_count": null,
   "metadata": {},
   "outputs": [],
   "source": []
  },
  {
   "cell_type": "code",
   "execution_count": null,
   "metadata": {},
   "outputs": [],
   "source": []
  },
  {
   "cell_type": "code",
   "execution_count": null,
   "metadata": {},
   "outputs": [],
   "source": []
  },
  {
   "cell_type": "code",
   "execution_count": null,
   "metadata": {},
   "outputs": [],
   "source": []
  },
  {
   "cell_type": "code",
   "execution_count": null,
   "metadata": {},
   "outputs": [],
   "source": []
  },
  {
   "cell_type": "code",
   "execution_count": null,
   "metadata": {},
   "outputs": [],
   "source": []
  },
  {
   "cell_type": "code",
   "execution_count": null,
   "metadata": {},
   "outputs": [],
   "source": []
  },
  {
   "cell_type": "code",
   "execution_count": null,
   "metadata": {},
   "outputs": [],
   "source": []
  },
  {
   "cell_type": "code",
   "execution_count": null,
   "metadata": {},
   "outputs": [],
   "source": []
  },
  {
   "cell_type": "code",
   "execution_count": null,
   "metadata": {},
   "outputs": [],
   "source": []
  },
  {
   "cell_type": "code",
   "execution_count": null,
   "metadata": {},
   "outputs": [],
   "source": []
  },
  {
   "cell_type": "code",
   "execution_count": null,
   "metadata": {},
   "outputs": [],
   "source": []
  },
  {
   "cell_type": "code",
   "execution_count": null,
   "metadata": {},
   "outputs": [],
   "source": []
  },
  {
   "cell_type": "code",
   "execution_count": null,
   "metadata": {},
   "outputs": [],
   "source": []
  },
  {
   "cell_type": "code",
   "execution_count": null,
   "metadata": {},
   "outputs": [],
   "source": []
  },
  {
   "cell_type": "code",
   "execution_count": null,
   "metadata": {},
   "outputs": [],
   "source": []
  },
  {
   "cell_type": "code",
   "execution_count": null,
   "metadata": {},
   "outputs": [],
   "source": []
  },
  {
   "cell_type": "code",
   "execution_count": null,
   "metadata": {},
   "outputs": [],
   "source": []
  },
  {
   "cell_type": "code",
   "execution_count": null,
   "metadata": {},
   "outputs": [],
   "source": []
  },
  {
   "cell_type": "code",
   "execution_count": null,
   "metadata": {},
   "outputs": [],
   "source": []
  },
  {
   "cell_type": "code",
   "execution_count": null,
   "metadata": {},
   "outputs": [],
   "source": []
  },
  {
   "cell_type": "code",
   "execution_count": null,
   "metadata": {},
   "outputs": [],
   "source": []
  },
  {
   "cell_type": "code",
   "execution_count": null,
   "metadata": {},
   "outputs": [],
   "source": []
  }
 ],
 "metadata": {
  "kernelspec": {
   "display_name": "Python 3",
   "language": "python",
   "name": "python3"
  },
  "language_info": {
   "codemirror_mode": {
    "name": "ipython",
    "version": 3
   },
   "file_extension": ".py",
   "mimetype": "text/x-python",
   "name": "python",
   "nbconvert_exporter": "python",
   "pygments_lexer": "ipython3",
   "version": "3.8.3"
  }
 },
 "nbformat": 4,
 "nbformat_minor": 4
}
